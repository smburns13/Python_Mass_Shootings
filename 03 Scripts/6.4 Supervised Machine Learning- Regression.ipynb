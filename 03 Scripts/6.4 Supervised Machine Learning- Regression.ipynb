{
 "cells": [
  {
   "cell_type": "markdown",
   "id": "1e9805fb",
   "metadata": {},
   "source": [
    "# Notebook Contents\n",
    "\n",
    "1. Importing Libraries and Data\n",
    "2. Cleaning Data\n",
    "3. Prepping Data for Regression Analysis\n",
    "4. Regression Analysis"
   ]
  },
  {
   "cell_type": "markdown",
   "id": "af32aec9",
   "metadata": {},
   "source": [
    "# 1. Importing Libraries and Data"
   ]
  },
  {
   "cell_type": "code",
   "execution_count": 1,
   "id": "fa905d78",
   "metadata": {},
   "outputs": [],
   "source": [
    "import pandas as pd\n",
    "import numpy as np\n",
    "import seaborn as sns\n",
    "import matplotlib\n",
    "import matplotlib.pyplot as plt\n",
    "import os\n",
    "import sklearn\n",
    "from sklearn.model_selection import train_test_split \n",
    "from sklearn.linear_model import LinearRegression\n",
    "from sklearn.metrics import mean_squared_error, r2_score"
   ]
  },
  {
   "cell_type": "code",
   "execution_count": 2,
   "id": "b7ee919f",
   "metadata": {},
   "outputs": [],
   "source": [
    "#Ensuring that the graphs created display within the notebook without the need to \"call\" them specifically.\n",
    "%matplotlib inline"
   ]
  },
  {
   "cell_type": "code",
   "execution_count": 3,
   "id": "6737f337",
   "metadata": {},
   "outputs": [],
   "source": [
    "#Creating path\n",
    "path =r'C:\\Users\\smflo\\Documents\\Gun Violence Analysis'"
   ]
  },
  {
   "cell_type": "code",
   "execution_count": 4,
   "id": "ecd99ff1",
   "metadata": {},
   "outputs": [],
   "source": [
    "#Importing guns_clean.csv\n",
    "df_guns = pd.read_csv(os.path.join(path, '02 Data','Prepared Data','guns_clean_2.csv'), index_col = False)"
   ]
  },
  {
   "cell_type": "markdown",
   "id": "a5f19166",
   "metadata": {},
   "source": [
    "# 2. Cleaning Data"
   ]
  },
  {
   "cell_type": "code",
   "execution_count": 5,
   "id": "682e781b",
   "metadata": {},
   "outputs": [
    {
     "data": {
      "text/plain": [
       "Index(['Unnamed: 0.1', 'Unnamed: 0', 'incident_id', 'date', 'state',\n",
       "       'city_or_county', 'n_killed', 'n_injured', 'congressional_district',\n",
       "       'gun_type', 'incident_characteristics', 'n_guns_involved',\n",
       "       'participant_age', 'participant_age_group', 'participant_gender',\n",
       "       'participant_status', 'participant_type', 'state_house_district',\n",
       "       'state_senate_district', 'mass_shooting'],\n",
       "      dtype='object')"
      ]
     },
     "execution_count": 5,
     "metadata": {},
     "output_type": "execute_result"
    }
   ],
   "source": [
    "#Checking column names\n",
    "df_guns.columns"
   ]
  },
  {
   "cell_type": "code",
   "execution_count": 6,
   "id": "57123806",
   "metadata": {},
   "outputs": [
    {
     "data": {
      "text/html": [
       "<div>\n",
       "<style scoped>\n",
       "    .dataframe tbody tr th:only-of-type {\n",
       "        vertical-align: middle;\n",
       "    }\n",
       "\n",
       "    .dataframe tbody tr th {\n",
       "        vertical-align: top;\n",
       "    }\n",
       "\n",
       "    .dataframe thead th {\n",
       "        text-align: right;\n",
       "    }\n",
       "</style>\n",
       "<table border=\"1\" class=\"dataframe\">\n",
       "  <thead>\n",
       "    <tr style=\"text-align: right;\">\n",
       "      <th></th>\n",
       "      <th>Unnamed: 0.1</th>\n",
       "      <th>Unnamed: 0</th>\n",
       "      <th>incident_id</th>\n",
       "      <th>date</th>\n",
       "      <th>state</th>\n",
       "      <th>city_or_county</th>\n",
       "      <th>n_killed</th>\n",
       "      <th>n_injured</th>\n",
       "      <th>congressional_district</th>\n",
       "      <th>gun_type</th>\n",
       "      <th>incident_characteristics</th>\n",
       "      <th>n_guns_involved</th>\n",
       "      <th>participant_age</th>\n",
       "      <th>participant_age_group</th>\n",
       "      <th>participant_gender</th>\n",
       "      <th>participant_status</th>\n",
       "      <th>participant_type</th>\n",
       "      <th>state_house_district</th>\n",
       "      <th>state_senate_district</th>\n",
       "      <th>mass_shooting</th>\n",
       "    </tr>\n",
       "  </thead>\n",
       "  <tbody>\n",
       "    <tr>\n",
       "      <th>0</th>\n",
       "      <td>0</td>\n",
       "      <td>0</td>\n",
       "      <td>461105</td>\n",
       "      <td>1/1/2013</td>\n",
       "      <td>Pennsylvania</td>\n",
       "      <td>Mckeesport</td>\n",
       "      <td>0</td>\n",
       "      <td>4</td>\n",
       "      <td>14.0</td>\n",
       "      <td>NaN</td>\n",
       "      <td>Shot - Wounded/Injured||Mass Shooting (4+ vict...</td>\n",
       "      <td>1</td>\n",
       "      <td>0::20</td>\n",
       "      <td>0::Adult 18+||1::Adult 18+||2::Adult 18+||3::A...</td>\n",
       "      <td>0::Male||1::Male||3::Male||4::Female</td>\n",
       "      <td>0::Arrested||1::Injured||2::Injured||3::Injure...</td>\n",
       "      <td>0::Victim||1::Victim||2::Victim||3::Victim||4:...</td>\n",
       "      <td>NaN</td>\n",
       "      <td>NaN</td>\n",
       "      <td>1.0</td>\n",
       "    </tr>\n",
       "    <tr>\n",
       "      <th>1</th>\n",
       "      <td>1</td>\n",
       "      <td>1</td>\n",
       "      <td>460726</td>\n",
       "      <td>1/1/2013</td>\n",
       "      <td>California</td>\n",
       "      <td>Hawthorne</td>\n",
       "      <td>1</td>\n",
       "      <td>3</td>\n",
       "      <td>43.0</td>\n",
       "      <td>NaN</td>\n",
       "      <td>Shot - Wounded/Injured||Shot - Dead (murder, a...</td>\n",
       "      <td>1</td>\n",
       "      <td>0::20</td>\n",
       "      <td>0::Adult 18+||1::Adult 18+||2::Adult 18+||3::A...</td>\n",
       "      <td>0::Male</td>\n",
       "      <td>0::Killed||1::Injured||2::Injured||3::Injured</td>\n",
       "      <td>0::Victim||1::Victim||2::Victim||3::Victim||4:...</td>\n",
       "      <td>62.0</td>\n",
       "      <td>35.0</td>\n",
       "      <td>1.0</td>\n",
       "    </tr>\n",
       "    <tr>\n",
       "      <th>2</th>\n",
       "      <td>2</td>\n",
       "      <td>2</td>\n",
       "      <td>478855</td>\n",
       "      <td>1/1/2013</td>\n",
       "      <td>Ohio</td>\n",
       "      <td>Lorain</td>\n",
       "      <td>1</td>\n",
       "      <td>3</td>\n",
       "      <td>9.0</td>\n",
       "      <td>0::Unknown||1::Unknown</td>\n",
       "      <td>Shot - Wounded/Injured||Shot - Dead (murder, a...</td>\n",
       "      <td>2</td>\n",
       "      <td>0::25||1::31||2::33||3::34||4::33</td>\n",
       "      <td>0::Adult 18+||1::Adult 18+||2::Adult 18+||3::A...</td>\n",
       "      <td>0::Male||1::Male||2::Male||3::Male||4::Male</td>\n",
       "      <td>0::Injured, Unharmed, Arrested||1::Unharmed, A...</td>\n",
       "      <td>0::Subject-Suspect||1::Subject-Suspect||2::Vic...</td>\n",
       "      <td>56.0</td>\n",
       "      <td>13.0</td>\n",
       "      <td>NaN</td>\n",
       "    </tr>\n",
       "    <tr>\n",
       "      <th>3</th>\n",
       "      <td>3</td>\n",
       "      <td>3</td>\n",
       "      <td>478925</td>\n",
       "      <td>1/5/2013</td>\n",
       "      <td>Colorado</td>\n",
       "      <td>Aurora</td>\n",
       "      <td>4</td>\n",
       "      <td>0</td>\n",
       "      <td>6.0</td>\n",
       "      <td>NaN</td>\n",
       "      <td>Shot - Dead (murder, accidental, suicide)||Off...</td>\n",
       "      <td>1</td>\n",
       "      <td>0::29||1::33||2::56||3::33</td>\n",
       "      <td>0::Adult 18+||1::Adult 18+||2::Adult 18+||3::A...</td>\n",
       "      <td>0::Female||1::Male||2::Male||3::Male</td>\n",
       "      <td>0::Killed||1::Killed||2::Killed||3::Killed</td>\n",
       "      <td>0::Victim||1::Victim||2::Victim||3::Subject-Su...</td>\n",
       "      <td>40.0</td>\n",
       "      <td>28.0</td>\n",
       "      <td>NaN</td>\n",
       "    </tr>\n",
       "    <tr>\n",
       "      <th>4</th>\n",
       "      <td>4</td>\n",
       "      <td>4</td>\n",
       "      <td>478959</td>\n",
       "      <td>1/7/2013</td>\n",
       "      <td>North Carolina</td>\n",
       "      <td>Greensboro</td>\n",
       "      <td>2</td>\n",
       "      <td>2</td>\n",
       "      <td>6.0</td>\n",
       "      <td>0::Handgun||1::Handgun</td>\n",
       "      <td>Shot - Wounded/Injured||Shot - Dead (murder, a...</td>\n",
       "      <td>2</td>\n",
       "      <td>0::18||1::46||2::14||3::47</td>\n",
       "      <td>0::Adult 18+||1::Adult 18+||2::Teen 12-17||3::...</td>\n",
       "      <td>0::Female||1::Male||2::Male||3::Female</td>\n",
       "      <td>0::Injured||1::Injured||2::Killed||3::Killed</td>\n",
       "      <td>0::Victim||1::Victim||2::Victim||3::Subject-Su...</td>\n",
       "      <td>62.0</td>\n",
       "      <td>27.0</td>\n",
       "      <td>NaN</td>\n",
       "    </tr>\n",
       "    <tr>\n",
       "      <th>5</th>\n",
       "      <td>5</td>\n",
       "      <td>5</td>\n",
       "      <td>478948</td>\n",
       "      <td>1/7/2013</td>\n",
       "      <td>Oklahoma</td>\n",
       "      <td>Tulsa</td>\n",
       "      <td>4</td>\n",
       "      <td>0</td>\n",
       "      <td>1.0</td>\n",
       "      <td>NaN</td>\n",
       "      <td>Shot - Dead (murder, accidental, suicide)||Hom...</td>\n",
       "      <td>1</td>\n",
       "      <td>0::23||1::23||2::33||3::55</td>\n",
       "      <td>0::Adult 18+||1::Adult 18+||2::Adult 18+||3::A...</td>\n",
       "      <td>0::Female||1::Female||2::Female||3::Female||4:...</td>\n",
       "      <td>0::Killed||1::Killed||2::Killed||3::Killed||4:...</td>\n",
       "      <td>0::Victim||1::Victim||2::Victim||3::Victim||4:...</td>\n",
       "      <td>72.0</td>\n",
       "      <td>11.0</td>\n",
       "      <td>1.0</td>\n",
       "    </tr>\n",
       "    <tr>\n",
       "      <th>6</th>\n",
       "      <td>6</td>\n",
       "      <td>6</td>\n",
       "      <td>479363</td>\n",
       "      <td>1/19/2013</td>\n",
       "      <td>New Mexico</td>\n",
       "      <td>Albuquerque</td>\n",
       "      <td>5</td>\n",
       "      <td>0</td>\n",
       "      <td>1.0</td>\n",
       "      <td>0::22 LR||1::223 Rem [AR-15]</td>\n",
       "      <td>Shot - Dead (murder, accidental, suicide)||Mas...</td>\n",
       "      <td>2</td>\n",
       "      <td>0::51||1::40||2::9||3::5||4::2||5::15</td>\n",
       "      <td>0::Adult 18+||1::Adult 18+||2::Child 0-11||3::...</td>\n",
       "      <td>0::Male||1::Female||2::Male||3::Female||4::Fem...</td>\n",
       "      <td>0::Killed||1::Killed||2::Killed||3::Killed||4:...</td>\n",
       "      <td>0::Victim||1::Victim||2::Victim||3::Victim||4:...</td>\n",
       "      <td>10.0</td>\n",
       "      <td>14.0</td>\n",
       "      <td>1.0</td>\n",
       "    </tr>\n",
       "    <tr>\n",
       "      <th>7</th>\n",
       "      <td>7</td>\n",
       "      <td>7</td>\n",
       "      <td>479374</td>\n",
       "      <td>1/21/2013</td>\n",
       "      <td>Louisiana</td>\n",
       "      <td>New Orleans</td>\n",
       "      <td>0</td>\n",
       "      <td>5</td>\n",
       "      <td>2.0</td>\n",
       "      <td>NaN</td>\n",
       "      <td>Shot - Wounded/Injured||Drive-by (car to stree...</td>\n",
       "      <td>1</td>\n",
       "      <td>NaN</td>\n",
       "      <td>NaN</td>\n",
       "      <td>0::Male||1::Male||2::Male||3::Male||4::Male</td>\n",
       "      <td>0::Injured||1::Injured||2::Injured||3::Injured...</td>\n",
       "      <td>0::Victim||1::Victim||2::Victim||3::Victim||4:...</td>\n",
       "      <td>93.0</td>\n",
       "      <td>5.0</td>\n",
       "      <td>1.0</td>\n",
       "    </tr>\n",
       "    <tr>\n",
       "      <th>8</th>\n",
       "      <td>8</td>\n",
       "      <td>8</td>\n",
       "      <td>479389</td>\n",
       "      <td>1/21/2013</td>\n",
       "      <td>California</td>\n",
       "      <td>Brentwood</td>\n",
       "      <td>0</td>\n",
       "      <td>4</td>\n",
       "      <td>9.0</td>\n",
       "      <td>NaN</td>\n",
       "      <td>Shot - Wounded/Injured||Drive-by (car to stree...</td>\n",
       "      <td>1</td>\n",
       "      <td>NaN</td>\n",
       "      <td>0::Teen 12-17||1::Teen 12-17||2::Teen 12-17||4...</td>\n",
       "      <td>0::Male||1::Male||2::Male||3::Male||4::Male</td>\n",
       "      <td>0::Injured||1::Injured||2::Injured||3::Injured...</td>\n",
       "      <td>0::Victim||1::Victim||2::Victim||3::Victim||4:...</td>\n",
       "      <td>11.0</td>\n",
       "      <td>7.0</td>\n",
       "      <td>1.0</td>\n",
       "    </tr>\n",
       "    <tr>\n",
       "      <th>9</th>\n",
       "      <td>9</td>\n",
       "      <td>9</td>\n",
       "      <td>492151</td>\n",
       "      <td>1/23/2013</td>\n",
       "      <td>Maryland</td>\n",
       "      <td>Baltimore</td>\n",
       "      <td>1</td>\n",
       "      <td>6</td>\n",
       "      <td>7.0</td>\n",
       "      <td>NaN</td>\n",
       "      <td>Shot - Wounded/Injured||Shot - Dead (murder, a...</td>\n",
       "      <td>1</td>\n",
       "      <td>0::15</td>\n",
       "      <td>0::Teen 12-17||1::Adult 18+||2::Adult 18+||3::...</td>\n",
       "      <td>0::Male</td>\n",
       "      <td>0::Killed||1::Injured||2::Injured||3::Injured|...</td>\n",
       "      <td>0::Victim||1::Victim||2::Victim||3::Victim||4:...</td>\n",
       "      <td>NaN</td>\n",
       "      <td>44.0</td>\n",
       "      <td>1.0</td>\n",
       "    </tr>\n",
       "    <tr>\n",
       "      <th>10</th>\n",
       "      <td>10</td>\n",
       "      <td>10</td>\n",
       "      <td>491674</td>\n",
       "      <td>1/23/2013</td>\n",
       "      <td>Tennessee</td>\n",
       "      <td>Chattanooga</td>\n",
       "      <td>1</td>\n",
       "      <td>3</td>\n",
       "      <td>3.0</td>\n",
       "      <td>0::Unknown</td>\n",
       "      <td>Shot - Wounded/Injured||Shot - Dead (murder, a...</td>\n",
       "      <td>1</td>\n",
       "      <td>0::19</td>\n",
       "      <td>0::Adult 18+</td>\n",
       "      <td>0::Male||1::Male||2::Male||3::Male</td>\n",
       "      <td>0::Killed||1::Injured||2::Injured||3::Injured</td>\n",
       "      <td>0::Victim||1::Victim||2::Victim||3::Victim||4:...</td>\n",
       "      <td>28.0</td>\n",
       "      <td>10.0</td>\n",
       "      <td>1.0</td>\n",
       "    </tr>\n",
       "    <tr>\n",
       "      <th>11</th>\n",
       "      <td>11</td>\n",
       "      <td>11</td>\n",
       "      <td>479413</td>\n",
       "      <td>1/25/2013</td>\n",
       "      <td>Missouri</td>\n",
       "      <td>Saint Louis</td>\n",
       "      <td>1</td>\n",
       "      <td>3</td>\n",
       "      <td>1.0</td>\n",
       "      <td>0::Unknown</td>\n",
       "      <td>Shot - Wounded/Injured||Shot - Dead (murder, a...</td>\n",
       "      <td>1</td>\n",
       "      <td>0::28</td>\n",
       "      <td>0::Adult 18+</td>\n",
       "      <td>0::Male</td>\n",
       "      <td>0::Killed||1::Injured||2::Injured||3::Injured</td>\n",
       "      <td>0::Victim||1::Victim||2::Victim||3::Victim||4:...</td>\n",
       "      <td>76.0</td>\n",
       "      <td>4.0</td>\n",
       "      <td>1.0</td>\n",
       "    </tr>\n",
       "    <tr>\n",
       "      <th>12</th>\n",
       "      <td>12</td>\n",
       "      <td>12</td>\n",
       "      <td>479561</td>\n",
       "      <td>1/26/2013</td>\n",
       "      <td>Louisiana</td>\n",
       "      <td>Charenton</td>\n",
       "      <td>2</td>\n",
       "      <td>3</td>\n",
       "      <td>3.0</td>\n",
       "      <td>0::Shotgun</td>\n",
       "      <td>Shot - Wounded/Injured||Shot - Dead (murder, a...</td>\n",
       "      <td>1</td>\n",
       "      <td>3::78||4::48</td>\n",
       "      <td>0::Adult 18+||1::Adult 18+||2::Adult 18+||3::A...</td>\n",
       "      <td>0::Male||1::Male||2::Male||3::Male||4::Male</td>\n",
       "      <td>0::Killed||1::Injured||2::Injured||3::Killed||...</td>\n",
       "      <td>0::Victim||1::Victim||2::Victim||3::Victim||4:...</td>\n",
       "      <td>50.0</td>\n",
       "      <td>21.0</td>\n",
       "      <td>1.0</td>\n",
       "    </tr>\n",
       "    <tr>\n",
       "      <th>13</th>\n",
       "      <td>13</td>\n",
       "      <td>13</td>\n",
       "      <td>479554</td>\n",
       "      <td>1/26/2013</td>\n",
       "      <td>District of Columbia</td>\n",
       "      <td>Washington</td>\n",
       "      <td>0</td>\n",
       "      <td>5</td>\n",
       "      <td>1.0</td>\n",
       "      <td>0::Handgun</td>\n",
       "      <td>Shot - Wounded/Injured||Mass Shooting (4+ vict...</td>\n",
       "      <td>1</td>\n",
       "      <td>NaN</td>\n",
       "      <td>0::Adult 18+||1::Adult 18+||2::Adult 18+||3::A...</td>\n",
       "      <td>0::Female||1::Female||2::Male||3::Male||4::Mal...</td>\n",
       "      <td>0::Injured||1::Injured||2::Injured||3::Injured...</td>\n",
       "      <td>0::Victim||1::Victim||2::Victim||3::Victim||4:...</td>\n",
       "      <td>NaN</td>\n",
       "      <td>NaN</td>\n",
       "      <td>1.0</td>\n",
       "    </tr>\n",
       "    <tr>\n",
       "      <th>14</th>\n",
       "      <td>14</td>\n",
       "      <td>14</td>\n",
       "      <td>479460</td>\n",
       "      <td>1/26/2013</td>\n",
       "      <td>Ohio</td>\n",
       "      <td>Springfield</td>\n",
       "      <td>1</td>\n",
       "      <td>3</td>\n",
       "      <td>8.0</td>\n",
       "      <td>NaN</td>\n",
       "      <td>Shot - Wounded/Injured||Shot - Dead (murder, a...</td>\n",
       "      <td>1</td>\n",
       "      <td>0::34||1::28||2::23||3::29||4::29</td>\n",
       "      <td>0::Adult 18+||1::Adult 18+||2::Adult 18+||3::A...</td>\n",
       "      <td>0::Male||1::Male||2::Male||3::Male||4::Male</td>\n",
       "      <td>0::Killed||1::Injured||2::Injured||3::Injured|...</td>\n",
       "      <td>0::Victim||1::Victim||2::Victim||3::Victim||4:...</td>\n",
       "      <td>79.0</td>\n",
       "      <td>10.0</td>\n",
       "      <td>1.0</td>\n",
       "    </tr>\n",
       "    <tr>\n",
       "      <th>15</th>\n",
       "      <td>15</td>\n",
       "      <td>15</td>\n",
       "      <td>479573</td>\n",
       "      <td>2/2/2013</td>\n",
       "      <td>Tennessee</td>\n",
       "      <td>Memphis</td>\n",
       "      <td>0</td>\n",
       "      <td>5</td>\n",
       "      <td>9.0</td>\n",
       "      <td>0::Handgun</td>\n",
       "      <td>Shot - Wounded/Injured||Mass Shooting (4+ vict...</td>\n",
       "      <td>1</td>\n",
       "      <td>5::24</td>\n",
       "      <td>0::Adult 18+||1::Adult 18+||2::Adult 18+||4::A...</td>\n",
       "      <td>0::Female||1::Female||2::Female||3::Female||4:...</td>\n",
       "      <td>0::Injured||1::Injured||2::Injured||3::Injured...</td>\n",
       "      <td>0::Victim||1::Victim||2::Victim||3::Victim||4:...</td>\n",
       "      <td>84.0</td>\n",
       "      <td>33.0</td>\n",
       "      <td>1.0</td>\n",
       "    </tr>\n",
       "    <tr>\n",
       "      <th>16</th>\n",
       "      <td>16</td>\n",
       "      <td>16</td>\n",
       "      <td>479580</td>\n",
       "      <td>2/3/2013</td>\n",
       "      <td>California</td>\n",
       "      <td>Yuba (county)</td>\n",
       "      <td>1</td>\n",
       "      <td>3</td>\n",
       "      <td>3.0</td>\n",
       "      <td>0::9mm</td>\n",
       "      <td>Shot - Wounded/Injured||Shot - Dead (murder, a...</td>\n",
       "      <td>1</td>\n",
       "      <td>0::20||4::25||5::18||6::19</td>\n",
       "      <td>0::Adult 18+||1::Adult 18+||2::Adult 18+||3::A...</td>\n",
       "      <td>0::Male||1::Male||2::Female||4::Male||5::Male|...</td>\n",
       "      <td>0::Killed||1::Injured||2::Injured||3::Injured|...</td>\n",
       "      <td>0::Victim||1::Victim||2::Victim||3::Victim||4:...</td>\n",
       "      <td>3.0</td>\n",
       "      <td>4.0</td>\n",
       "      <td>1.0</td>\n",
       "    </tr>\n",
       "    <tr>\n",
       "      <th>17</th>\n",
       "      <td>17</td>\n",
       "      <td>17</td>\n",
       "      <td>479592</td>\n",
       "      <td>2/7/2013</td>\n",
       "      <td>Illinois</td>\n",
       "      <td>Chicago</td>\n",
       "      <td>0</td>\n",
       "      <td>4</td>\n",
       "      <td>2.0</td>\n",
       "      <td>NaN</td>\n",
       "      <td>Shot - Wounded/Injured||Drive-by (car to stree...</td>\n",
       "      <td>1</td>\n",
       "      <td>0::18||1::41||2::28||3::28</td>\n",
       "      <td>0::Adult 18+||1::Adult 18+||2::Adult 18+||3::A...</td>\n",
       "      <td>0::Male||1::Male||2::Male||3::Male</td>\n",
       "      <td>0::Injured||1::Injured||2::Injured||3::Injured...</td>\n",
       "      <td>0::Victim||1::Victim||2::Victim||3::Victim||4:...</td>\n",
       "      <td>25.0</td>\n",
       "      <td>13.0</td>\n",
       "      <td>1.0</td>\n",
       "    </tr>\n",
       "    <tr>\n",
       "      <th>18</th>\n",
       "      <td>18</td>\n",
       "      <td>18</td>\n",
       "      <td>479603</td>\n",
       "      <td>2/9/2013</td>\n",
       "      <td>Louisiana</td>\n",
       "      <td>New Orleans</td>\n",
       "      <td>0</td>\n",
       "      <td>4</td>\n",
       "      <td>2.0</td>\n",
       "      <td>0::Handgun</td>\n",
       "      <td>Shot - Wounded/Injured||Mass Shooting (4+ vict...</td>\n",
       "      <td>1</td>\n",
       "      <td>0::18||1::22||2::21||3::29||4::19||5::22||6::23</td>\n",
       "      <td>0::Adult 18+||1::Adult 18+||2::Adult 18+||3::A...</td>\n",
       "      <td>0::Male||1::Female||2::Female||3::Male||4::Mal...</td>\n",
       "      <td>0::Injured||1::Injured||2::Injured||3::Injured...</td>\n",
       "      <td>0::Victim||1::Victim||2::Victim||3::Victim||4:...</td>\n",
       "      <td>93.0</td>\n",
       "      <td>4.0</td>\n",
       "      <td>1.0</td>\n",
       "    </tr>\n",
       "    <tr>\n",
       "      <th>19</th>\n",
       "      <td>19</td>\n",
       "      <td>19</td>\n",
       "      <td>480311</td>\n",
       "      <td>2/11/2013</td>\n",
       "      <td>California</td>\n",
       "      <td>Vallejo</td>\n",
       "      <td>1</td>\n",
       "      <td>4</td>\n",
       "      <td>5.0</td>\n",
       "      <td>NaN</td>\n",
       "      <td>Shot - Wounded/Injured||Shot - Dead (murder, a...</td>\n",
       "      <td>1</td>\n",
       "      <td>0::22</td>\n",
       "      <td>0::Adult 18+||1::Adult 18+||2::Adult 18+||3::A...</td>\n",
       "      <td>0::Male||1::Male||2::Male||3::Female||4::Female</td>\n",
       "      <td>0::Killed||1::Injured||2::Injured||3::Injured|...</td>\n",
       "      <td>0::Victim||1::Victim||2::Victim||3::Victim||4:...</td>\n",
       "      <td>14.0</td>\n",
       "      <td>3.0</td>\n",
       "      <td>1.0</td>\n",
       "    </tr>\n",
       "  </tbody>\n",
       "</table>\n",
       "</div>"
      ],
      "text/plain": [
       "    Unnamed: 0.1  Unnamed: 0  incident_id       date                 state  \\\n",
       "0              0           0       461105   1/1/2013          Pennsylvania   \n",
       "1              1           1       460726   1/1/2013            California   \n",
       "2              2           2       478855   1/1/2013                  Ohio   \n",
       "3              3           3       478925   1/5/2013              Colorado   \n",
       "4              4           4       478959   1/7/2013        North Carolina   \n",
       "5              5           5       478948   1/7/2013              Oklahoma   \n",
       "6              6           6       479363  1/19/2013            New Mexico   \n",
       "7              7           7       479374  1/21/2013             Louisiana   \n",
       "8              8           8       479389  1/21/2013            California   \n",
       "9              9           9       492151  1/23/2013              Maryland   \n",
       "10            10          10       491674  1/23/2013             Tennessee   \n",
       "11            11          11       479413  1/25/2013              Missouri   \n",
       "12            12          12       479561  1/26/2013             Louisiana   \n",
       "13            13          13       479554  1/26/2013  District of Columbia   \n",
       "14            14          14       479460  1/26/2013                  Ohio   \n",
       "15            15          15       479573   2/2/2013             Tennessee   \n",
       "16            16          16       479580   2/3/2013            California   \n",
       "17            17          17       479592   2/7/2013              Illinois   \n",
       "18            18          18       479603   2/9/2013             Louisiana   \n",
       "19            19          19       480311  2/11/2013            California   \n",
       "\n",
       "   city_or_county  n_killed  n_injured  congressional_district  \\\n",
       "0      Mckeesport         0          4                    14.0   \n",
       "1       Hawthorne         1          3                    43.0   \n",
       "2          Lorain         1          3                     9.0   \n",
       "3          Aurora         4          0                     6.0   \n",
       "4      Greensboro         2          2                     6.0   \n",
       "5           Tulsa         4          0                     1.0   \n",
       "6     Albuquerque         5          0                     1.0   \n",
       "7     New Orleans         0          5                     2.0   \n",
       "8       Brentwood         0          4                     9.0   \n",
       "9       Baltimore         1          6                     7.0   \n",
       "10    Chattanooga         1          3                     3.0   \n",
       "11    Saint Louis         1          3                     1.0   \n",
       "12      Charenton         2          3                     3.0   \n",
       "13     Washington         0          5                     1.0   \n",
       "14    Springfield         1          3                     8.0   \n",
       "15        Memphis         0          5                     9.0   \n",
       "16  Yuba (county)         1          3                     3.0   \n",
       "17        Chicago         0          4                     2.0   \n",
       "18    New Orleans         0          4                     2.0   \n",
       "19        Vallejo         1          4                     5.0   \n",
       "\n",
       "                        gun_type  \\\n",
       "0                            NaN   \n",
       "1                            NaN   \n",
       "2         0::Unknown||1::Unknown   \n",
       "3                            NaN   \n",
       "4         0::Handgun||1::Handgun   \n",
       "5                            NaN   \n",
       "6   0::22 LR||1::223 Rem [AR-15]   \n",
       "7                            NaN   \n",
       "8                            NaN   \n",
       "9                            NaN   \n",
       "10                    0::Unknown   \n",
       "11                    0::Unknown   \n",
       "12                    0::Shotgun   \n",
       "13                    0::Handgun   \n",
       "14                           NaN   \n",
       "15                    0::Handgun   \n",
       "16                        0::9mm   \n",
       "17                           NaN   \n",
       "18                    0::Handgun   \n",
       "19                           NaN   \n",
       "\n",
       "                             incident_characteristics  n_guns_involved  \\\n",
       "0   Shot - Wounded/Injured||Mass Shooting (4+ vict...                1   \n",
       "1   Shot - Wounded/Injured||Shot - Dead (murder, a...                1   \n",
       "2   Shot - Wounded/Injured||Shot - Dead (murder, a...                2   \n",
       "3   Shot - Dead (murder, accidental, suicide)||Off...                1   \n",
       "4   Shot - Wounded/Injured||Shot - Dead (murder, a...                2   \n",
       "5   Shot - Dead (murder, accidental, suicide)||Hom...                1   \n",
       "6   Shot - Dead (murder, accidental, suicide)||Mas...                2   \n",
       "7   Shot - Wounded/Injured||Drive-by (car to stree...                1   \n",
       "8   Shot - Wounded/Injured||Drive-by (car to stree...                1   \n",
       "9   Shot - Wounded/Injured||Shot - Dead (murder, a...                1   \n",
       "10  Shot - Wounded/Injured||Shot - Dead (murder, a...                1   \n",
       "11  Shot - Wounded/Injured||Shot - Dead (murder, a...                1   \n",
       "12  Shot - Wounded/Injured||Shot - Dead (murder, a...                1   \n",
       "13  Shot - Wounded/Injured||Mass Shooting (4+ vict...                1   \n",
       "14  Shot - Wounded/Injured||Shot - Dead (murder, a...                1   \n",
       "15  Shot - Wounded/Injured||Mass Shooting (4+ vict...                1   \n",
       "16  Shot - Wounded/Injured||Shot - Dead (murder, a...                1   \n",
       "17  Shot - Wounded/Injured||Drive-by (car to stree...                1   \n",
       "18  Shot - Wounded/Injured||Mass Shooting (4+ vict...                1   \n",
       "19  Shot - Wounded/Injured||Shot - Dead (murder, a...                1   \n",
       "\n",
       "                                    participant_age  \\\n",
       "0                                             0::20   \n",
       "1                                             0::20   \n",
       "2                 0::25||1::31||2::33||3::34||4::33   \n",
       "3                        0::29||1::33||2::56||3::33   \n",
       "4                        0::18||1::46||2::14||3::47   \n",
       "5                        0::23||1::23||2::33||3::55   \n",
       "6             0::51||1::40||2::9||3::5||4::2||5::15   \n",
       "7                                               NaN   \n",
       "8                                               NaN   \n",
       "9                                             0::15   \n",
       "10                                            0::19   \n",
       "11                                            0::28   \n",
       "12                                     3::78||4::48   \n",
       "13                                              NaN   \n",
       "14                0::34||1::28||2::23||3::29||4::29   \n",
       "15                                            5::24   \n",
       "16                       0::20||4::25||5::18||6::19   \n",
       "17                       0::18||1::41||2::28||3::28   \n",
       "18  0::18||1::22||2::21||3::29||4::19||5::22||6::23   \n",
       "19                                            0::22   \n",
       "\n",
       "                                participant_age_group  \\\n",
       "0   0::Adult 18+||1::Adult 18+||2::Adult 18+||3::A...   \n",
       "1   0::Adult 18+||1::Adult 18+||2::Adult 18+||3::A...   \n",
       "2   0::Adult 18+||1::Adult 18+||2::Adult 18+||3::A...   \n",
       "3   0::Adult 18+||1::Adult 18+||2::Adult 18+||3::A...   \n",
       "4   0::Adult 18+||1::Adult 18+||2::Teen 12-17||3::...   \n",
       "5   0::Adult 18+||1::Adult 18+||2::Adult 18+||3::A...   \n",
       "6   0::Adult 18+||1::Adult 18+||2::Child 0-11||3::...   \n",
       "7                                                 NaN   \n",
       "8   0::Teen 12-17||1::Teen 12-17||2::Teen 12-17||4...   \n",
       "9   0::Teen 12-17||1::Adult 18+||2::Adult 18+||3::...   \n",
       "10                                       0::Adult 18+   \n",
       "11                                       0::Adult 18+   \n",
       "12  0::Adult 18+||1::Adult 18+||2::Adult 18+||3::A...   \n",
       "13  0::Adult 18+||1::Adult 18+||2::Adult 18+||3::A...   \n",
       "14  0::Adult 18+||1::Adult 18+||2::Adult 18+||3::A...   \n",
       "15  0::Adult 18+||1::Adult 18+||2::Adult 18+||4::A...   \n",
       "16  0::Adult 18+||1::Adult 18+||2::Adult 18+||3::A...   \n",
       "17  0::Adult 18+||1::Adult 18+||2::Adult 18+||3::A...   \n",
       "18  0::Adult 18+||1::Adult 18+||2::Adult 18+||3::A...   \n",
       "19  0::Adult 18+||1::Adult 18+||2::Adult 18+||3::A...   \n",
       "\n",
       "                                   participant_gender  \\\n",
       "0                0::Male||1::Male||3::Male||4::Female   \n",
       "1                                             0::Male   \n",
       "2         0::Male||1::Male||2::Male||3::Male||4::Male   \n",
       "3                0::Female||1::Male||2::Male||3::Male   \n",
       "4              0::Female||1::Male||2::Male||3::Female   \n",
       "5   0::Female||1::Female||2::Female||3::Female||4:...   \n",
       "6   0::Male||1::Female||2::Male||3::Female||4::Fem...   \n",
       "7         0::Male||1::Male||2::Male||3::Male||4::Male   \n",
       "8         0::Male||1::Male||2::Male||3::Male||4::Male   \n",
       "9                                             0::Male   \n",
       "10                 0::Male||1::Male||2::Male||3::Male   \n",
       "11                                            0::Male   \n",
       "12        0::Male||1::Male||2::Male||3::Male||4::Male   \n",
       "13  0::Female||1::Female||2::Male||3::Male||4::Mal...   \n",
       "14        0::Male||1::Male||2::Male||3::Male||4::Male   \n",
       "15  0::Female||1::Female||2::Female||3::Female||4:...   \n",
       "16  0::Male||1::Male||2::Female||4::Male||5::Male|...   \n",
       "17                 0::Male||1::Male||2::Male||3::Male   \n",
       "18  0::Male||1::Female||2::Female||3::Male||4::Mal...   \n",
       "19    0::Male||1::Male||2::Male||3::Female||4::Female   \n",
       "\n",
       "                                   participant_status  \\\n",
       "0   0::Arrested||1::Injured||2::Injured||3::Injure...   \n",
       "1       0::Killed||1::Injured||2::Injured||3::Injured   \n",
       "2   0::Injured, Unharmed, Arrested||1::Unharmed, A...   \n",
       "3          0::Killed||1::Killed||2::Killed||3::Killed   \n",
       "4        0::Injured||1::Injured||2::Killed||3::Killed   \n",
       "5   0::Killed||1::Killed||2::Killed||3::Killed||4:...   \n",
       "6   0::Killed||1::Killed||2::Killed||3::Killed||4:...   \n",
       "7   0::Injured||1::Injured||2::Injured||3::Injured...   \n",
       "8   0::Injured||1::Injured||2::Injured||3::Injured...   \n",
       "9   0::Killed||1::Injured||2::Injured||3::Injured|...   \n",
       "10      0::Killed||1::Injured||2::Injured||3::Injured   \n",
       "11      0::Killed||1::Injured||2::Injured||3::Injured   \n",
       "12  0::Killed||1::Injured||2::Injured||3::Killed||...   \n",
       "13  0::Injured||1::Injured||2::Injured||3::Injured...   \n",
       "14  0::Killed||1::Injured||2::Injured||3::Injured|...   \n",
       "15  0::Injured||1::Injured||2::Injured||3::Injured...   \n",
       "16  0::Killed||1::Injured||2::Injured||3::Injured|...   \n",
       "17  0::Injured||1::Injured||2::Injured||3::Injured...   \n",
       "18  0::Injured||1::Injured||2::Injured||3::Injured...   \n",
       "19  0::Killed||1::Injured||2::Injured||3::Injured|...   \n",
       "\n",
       "                                     participant_type  state_house_district  \\\n",
       "0   0::Victim||1::Victim||2::Victim||3::Victim||4:...                   NaN   \n",
       "1   0::Victim||1::Victim||2::Victim||3::Victim||4:...                  62.0   \n",
       "2   0::Subject-Suspect||1::Subject-Suspect||2::Vic...                  56.0   \n",
       "3   0::Victim||1::Victim||2::Victim||3::Subject-Su...                  40.0   \n",
       "4   0::Victim||1::Victim||2::Victim||3::Subject-Su...                  62.0   \n",
       "5   0::Victim||1::Victim||2::Victim||3::Victim||4:...                  72.0   \n",
       "6   0::Victim||1::Victim||2::Victim||3::Victim||4:...                  10.0   \n",
       "7   0::Victim||1::Victim||2::Victim||3::Victim||4:...                  93.0   \n",
       "8   0::Victim||1::Victim||2::Victim||3::Victim||4:...                  11.0   \n",
       "9   0::Victim||1::Victim||2::Victim||3::Victim||4:...                   NaN   \n",
       "10  0::Victim||1::Victim||2::Victim||3::Victim||4:...                  28.0   \n",
       "11  0::Victim||1::Victim||2::Victim||3::Victim||4:...                  76.0   \n",
       "12  0::Victim||1::Victim||2::Victim||3::Victim||4:...                  50.0   \n",
       "13  0::Victim||1::Victim||2::Victim||3::Victim||4:...                   NaN   \n",
       "14  0::Victim||1::Victim||2::Victim||3::Victim||4:...                  79.0   \n",
       "15  0::Victim||1::Victim||2::Victim||3::Victim||4:...                  84.0   \n",
       "16  0::Victim||1::Victim||2::Victim||3::Victim||4:...                   3.0   \n",
       "17  0::Victim||1::Victim||2::Victim||3::Victim||4:...                  25.0   \n",
       "18  0::Victim||1::Victim||2::Victim||3::Victim||4:...                  93.0   \n",
       "19  0::Victim||1::Victim||2::Victim||3::Victim||4:...                  14.0   \n",
       "\n",
       "    state_senate_district  mass_shooting  \n",
       "0                     NaN            1.0  \n",
       "1                    35.0            1.0  \n",
       "2                    13.0            NaN  \n",
       "3                    28.0            NaN  \n",
       "4                    27.0            NaN  \n",
       "5                    11.0            1.0  \n",
       "6                    14.0            1.0  \n",
       "7                     5.0            1.0  \n",
       "8                     7.0            1.0  \n",
       "9                    44.0            1.0  \n",
       "10                   10.0            1.0  \n",
       "11                    4.0            1.0  \n",
       "12                   21.0            1.0  \n",
       "13                    NaN            1.0  \n",
       "14                   10.0            1.0  \n",
       "15                   33.0            1.0  \n",
       "16                    4.0            1.0  \n",
       "17                   13.0            1.0  \n",
       "18                    4.0            1.0  \n",
       "19                    3.0            1.0  "
      ]
     },
     "execution_count": 6,
     "metadata": {},
     "output_type": "execute_result"
    }
   ],
   "source": [
    "#Checking first 20 rows\n",
    "df_guns.head(20)"
   ]
  },
  {
   "cell_type": "code",
   "execution_count": 7,
   "id": "56d0079e",
   "metadata": {},
   "outputs": [
    {
     "data": {
      "text/plain": [
       "(239677, 20)"
      ]
     },
     "execution_count": 7,
     "metadata": {},
     "output_type": "execute_result"
    }
   ],
   "source": [
    "#Checking shape\n",
    "df_guns.shape"
   ]
  },
  {
   "cell_type": "code",
   "execution_count": 10,
   "id": "c3faa77a",
   "metadata": {},
   "outputs": [
    {
     "data": {
      "text/plain": [
       "Unnamed: 0.1                     0\n",
       "Unnamed: 0                       0\n",
       "incident_id                      0\n",
       "date                             0\n",
       "state                            0\n",
       "city_or_county                   0\n",
       "n_killed                         0\n",
       "n_injured                        0\n",
       "congressional_district       11944\n",
       "gun_type                     99451\n",
       "incident_characteristics         0\n",
       "n_guns_involved                  0\n",
       "participant_age              92298\n",
       "participant_age_group        42119\n",
       "participant_gender           36362\n",
       "participant_status           27626\n",
       "participant_type             24863\n",
       "state_house_district         38772\n",
       "state_senate_district        32335\n",
       "mass_shooting               238040\n",
       "dtype: int64"
      ]
     },
     "execution_count": 10,
     "metadata": {},
     "output_type": "execute_result"
    }
   ],
   "source": [
    "#Checking for missing values\n",
    "df_guns.isnull().sum()"
   ]
  },
  {
   "cell_type": "code",
   "execution_count": 11,
   "id": "fa4ab433",
   "metadata": {},
   "outputs": [],
   "source": [
    "df_guns['mass_shooting'].fillna(0, inplace=True)"
   ]
  },
  {
   "cell_type": "markdown",
   "id": "73bbc6b1",
   "metadata": {},
   "source": [
    "I will not being doing anything with the remaining missing values as I don't really need those columns for my analysis. I can't really impute a value for those cells anyway, and I don't want to delete them."
   ]
  },
  {
   "cell_type": "code",
   "execution_count": 12,
   "id": "1e5af477",
   "metadata": {},
   "outputs": [
    {
     "data": {
      "text/plain": [
       "Unnamed: 0.1                    0\n",
       "Unnamed: 0                      0\n",
       "incident_id                     0\n",
       "date                            0\n",
       "state                           0\n",
       "city_or_county                  0\n",
       "n_killed                        0\n",
       "n_injured                       0\n",
       "congressional_district      11944\n",
       "gun_type                    99451\n",
       "incident_characteristics        0\n",
       "n_guns_involved                 0\n",
       "participant_age             92298\n",
       "participant_age_group       42119\n",
       "participant_gender          36362\n",
       "participant_status          27626\n",
       "participant_type            24863\n",
       "state_house_district        38772\n",
       "state_senate_district       32335\n",
       "mass_shooting                   0\n",
       "dtype: int64"
      ]
     },
     "execution_count": 12,
     "metadata": {},
     "output_type": "execute_result"
    }
   ],
   "source": [
    "#Rechecking for missing values in 'mass_shooting' column\n",
    "df_guns.isnull().sum()"
   ]
  },
  {
   "cell_type": "code",
   "execution_count": 13,
   "id": "edd753b5",
   "metadata": {},
   "outputs": [],
   "source": [
    "#Creating dataframe to check for duplicates\n",
    "dups = df_guns.duplicated()"
   ]
  },
  {
   "cell_type": "code",
   "execution_count": 14,
   "id": "d3e021e1",
   "metadata": {},
   "outputs": [
    {
     "data": {
      "text/plain": [
       "(239677,)"
      ]
     },
     "execution_count": 14,
     "metadata": {},
     "output_type": "execute_result"
    }
   ],
   "source": [
    "#Checking for duplicates\n",
    "dups.shape"
   ]
  },
  {
   "cell_type": "markdown",
   "id": "87ebc9fb",
   "metadata": {},
   "source": [
    "No duplicates found"
   ]
  },
  {
   "cell_type": "code",
   "execution_count": 16,
   "id": "a9e8f6f6",
   "metadata": {},
   "outputs": [
    {
     "data": {
      "text/plain": [
       "<AxesSubplot:xlabel='n_killed', ylabel='Count'>"
      ]
     },
     "execution_count": 16,
     "metadata": {},
     "output_type": "execute_result"
    },
    {
     "data": {
      "image/png": "[encoded data removed]",
      "text/plain": [
       "<Figure size 640x480 with 1 Axes>"
      ]
     },
     "metadata": {},
     "output_type": "display_data"
    }
   ],
   "source": [
    "#Checking for extreme values \n",
    "sns.histplot(df_guns['n_killed'], bins=20, kde = True)"
   ]
  },
  {
   "cell_type": "code",
   "execution_count": 19,
   "id": "0755a9c4",
   "metadata": {},
   "outputs": [
    {
     "data": {
      "text/plain": [
       "0.25228953967214207"
      ]
     },
     "execution_count": 19,
     "metadata": {},
     "output_type": "execute_result"
    }
   ],
   "source": [
    "#Checking the mean\n",
    "df_guns['n_killed'].mean()"
   ]
  },
  {
   "cell_type": "code",
   "execution_count": 20,
   "id": "27fcf5aa",
   "metadata": {},
   "outputs": [
    {
     "data": {
      "text/plain": [
       "0.0"
      ]
     },
     "execution_count": 20,
     "metadata": {},
     "output_type": "execute_result"
    }
   ],
   "source": [
    "#Checking the median\n",
    "df_guns['n_killed'].median()"
   ]
  },
  {
   "cell_type": "code",
   "execution_count": 21,
   "id": "8e8f2133",
   "metadata": {},
   "outputs": [
    {
     "data": {
      "text/plain": [
       "50"
      ]
     },
     "execution_count": 21,
     "metadata": {},
     "output_type": "execute_result"
    }
   ],
   "source": [
    "#Checking the max\n",
    "df_guns['n_killed'].max()"
   ]
  },
  {
   "cell_type": "code",
   "execution_count": 18,
   "id": "89d109be",
   "metadata": {},
   "outputs": [
    {
     "data": {
      "text/plain": [
       "<AxesSubplot:xlabel='n_injured', ylabel='Count'>"
      ]
     },
     "execution_count": 18,
     "metadata": {},
     "output_type": "execute_result"
    },
    {
     "data": {
      "image/png": "[encoded data removed]",
      "text/plain": [
       "<Figure size 640x480 with 1 Axes>"
      ]
     },
     "metadata": {},
     "output_type": "display_data"
    }
   ],
   "source": [
    "#Checking for extreme values \n",
    "sns.histplot(df_guns['n_injured'], bins=20, kde = True)"
   ]
  },
  {
   "cell_type": "code",
   "execution_count": 22,
   "id": "e957333f",
   "metadata": {},
   "outputs": [
    {
     "data": {
      "text/plain": [
       "0.4940065171042695"
      ]
     },
     "execution_count": 22,
     "metadata": {},
     "output_type": "execute_result"
    }
   ],
   "source": [
    "#Checking the mean\n",
    "df_guns['n_injured'].mean()"
   ]
  },
  {
   "cell_type": "code",
   "execution_count": 23,
   "id": "780f192b",
   "metadata": {},
   "outputs": [
    {
     "data": {
      "text/plain": [
       "0.0"
      ]
     },
     "execution_count": 23,
     "metadata": {},
     "output_type": "execute_result"
    }
   ],
   "source": [
    "#Checking the median\n",
    "df_guns['n_injured'].median()"
   ]
  },
  {
   "cell_type": "code",
   "execution_count": 24,
   "id": "4855758a",
   "metadata": {},
   "outputs": [
    {
     "data": {
      "text/plain": [
       "53"
      ]
     },
     "execution_count": 24,
     "metadata": {},
     "output_type": "execute_result"
    }
   ],
   "source": [
    "#Checking the max\n",
    "df_guns['n_injured'].max()"
   ]
  },
  {
   "cell_type": "markdown",
   "id": "b7173734",
   "metadata": {},
   "source": [
    "# 3. Prepping Data for Regression Analysis"
   ]
  },
  {
   "cell_type": "code",
   "execution_count": 26,
   "id": "c2a5deb2",
   "metadata": {},
   "outputs": [
    {
     "data": {
      "image/png": "[encoded data removed]",
      "text/plain": [
       "<Figure size 640x480 with 1 Axes>"
      ]
     },
     "metadata": {},
     "output_type": "display_data"
    }
   ],
   "source": [
    "#Creating a scatterplot using matplotlib for another look at how the chosen variables plot against each other\n",
    "df_guns.plot(x = 'n_injured', y='n_killed',style='o') \n",
    "plt.title('Number Injured vs Number Killed')  \n",
    "plt.xlabel('Number Injured')  \n",
    "plt.ylabel('Number Killed')  \n",
    "plt.show()"
   ]
  },
  {
   "cell_type": "markdown",
   "id": "498bbc19",
   "metadata": {},
   "source": [
    "Hypothesis: As the number of people injured increases, so does the number of people killed."
   ]
  },
  {
   "cell_type": "code",
   "execution_count": 27,
   "id": "79257d9e",
   "metadata": {},
   "outputs": [],
   "source": [
    "#Reshaping the variables into NumPy arrays and putting them into separate objects\n",
    "X = df_guns['n_injured'].values.reshape(-1,1)\n",
    "y = df_guns['n_injured'].values.reshape(-1,1)"
   ]
  },
  {
   "cell_type": "code",
   "execution_count": 28,
   "id": "0ac10953",
   "metadata": {},
   "outputs": [
    {
     "data": {
      "text/plain": [
       "array([[4],\n",
       "       [3],\n",
       "       [3],\n",
       "       ...,\n",
       "       [1],\n",
       "       [0],\n",
       "       [0]], dtype=int64)"
      ]
     },
     "execution_count": 28,
     "metadata": {},
     "output_type": "execute_result"
    }
   ],
   "source": [
    "X"
   ]
  },
  {
   "cell_type": "code",
   "execution_count": 29,
   "id": "e70c4c07",
   "metadata": {},
   "outputs": [
    {
     "data": {
      "text/plain": [
       "array([[4],\n",
       "       [3],\n",
       "       [3],\n",
       "       ...,\n",
       "       [1],\n",
       "       [0],\n",
       "       [0]], dtype=int64)"
      ]
     },
     "execution_count": 29,
     "metadata": {},
     "output_type": "execute_result"
    }
   ],
   "source": [
    "y"
   ]
  },
  {
   "cell_type": "code",
   "execution_count": 30,
   "id": "b0a09fb2",
   "metadata": {},
   "outputs": [],
   "source": [
    "#Splitting data into a training set and a test set\n",
    "X_train, X_test, y_train, y_test = train_test_split(X, y, test_size=0.3, random_state=0)"
   ]
  },
  {
   "cell_type": "markdown",
   "id": "2a699e02",
   "metadata": {},
   "source": [
    "# 4. Regression Analysis"
   ]
  },
  {
   "cell_type": "code",
   "execution_count": 31,
   "id": "8deaa9f3",
   "metadata": {},
   "outputs": [],
   "source": [
    "#Creating a regression object\n",
    "regression = LinearRegression() "
   ]
  },
  {
   "cell_type": "code",
   "execution_count": 32,
   "id": "d435dc04",
   "metadata": {},
   "outputs": [
    {
     "data": {
      "text/plain": [
       "LinearRegression()"
      ]
     },
     "execution_count": 32,
     "metadata": {},
     "output_type": "execute_result"
    }
   ],
   "source": [
    "# Fitting the regression object onto the training set\n",
    "regression.fit(X_train, y_train)"
   ]
  },
  {
   "cell_type": "code",
   "execution_count": 33,
   "id": "044c630c",
   "metadata": {},
   "outputs": [],
   "source": [
    "#Predicting the values of y using X\n",
    "y_predicted = regression.predict(X_test)"
   ]
  },
  {
   "cell_type": "code",
   "execution_count": 34,
   "id": "390271b1",
   "metadata": {},
   "outputs": [
    {
     "data": {
      "image/png": "[encoded data removed]",
      "text/plain": [
       "<Figure size 640x480 with 1 Axes>"
      ]
     },
     "metadata": {},
     "output_type": "display_data"
    }
   ],
   "source": [
    "#Creating a plot that shows the regression line from the model on the test set\n",
    "plot_test = plt\n",
    "plot_test.scatter(X_test, y_test, color='gray', s = 15)\n",
    "plot_test.plot(X_test, y_predicted, color='red', linewidth =3)\n",
    "plot_test.title('Number Injured vs Number Killed (Test set)')\n",
    "plot_test.xlabel('Number Injured')\n",
    "plot_test.ylabel('Number Killed')\n",
    "plot_test.show()"
   ]
  },
  {
   "cell_type": "markdown",
   "id": "83b62e38",
   "metadata": {},
   "source": [
    "There is, what appears to be, a perfect linear relationship between the number of people injured and the number of people killed in a gun violence incident."
   ]
  },
  {
   "cell_type": "code",
   "execution_count": 35,
   "id": "ea77ac48",
   "metadata": {},
   "outputs": [],
   "source": [
    "#Creating objects that contain the model summary statistics\n",
    "rmse = mean_squared_error(y_test, y_predicted) #Mean squared error\n",
    "r2 = r2_score(y_test, y_predicted) #R2 score"
   ]
  },
  {
   "cell_type": "code",
   "execution_count": 36,
   "id": "9129d0fa",
   "metadata": {},
   "outputs": [
    {
     "name": "stdout",
     "output_type": "stream",
     "text": [
      "Slope: [[1.]]\n",
      "Mean squared error:  2.6031001129107786e-27\n",
      "R2 score:  1.0\n"
     ]
    }
   ],
   "source": [
    "#Print the model summary statistics\n",
    "print('Slope:' ,regression.coef_)\n",
    "print('Mean squared error: ', rmse)\n",
    "print('R2 score: ', r2)"
   ]
  },
  {
   "cell_type": "code",
   "execution_count": 37,
   "id": "db194604",
   "metadata": {},
   "outputs": [
    {
     "data": {
      "text/plain": [
       "array([[ 1.00000000e+00],\n",
       "       [ 1.00000000e+00],\n",
       "       [ 1.00000000e+00],\n",
       "       ...,\n",
       "       [-3.33622019e-14],\n",
       "       [ 1.00000000e+00],\n",
       "       [ 1.00000000e+00]])"
      ]
     },
     "execution_count": 37,
     "metadata": {},
     "output_type": "execute_result"
    }
   ],
   "source": [
    "y_predicted"
   ]
  },
  {
   "cell_type": "code",
   "execution_count": 38,
   "id": "23f987dd",
   "metadata": {},
   "outputs": [
    {
     "data": {
      "text/html": [
       "<div>\n",
       "<style scoped>\n",
       "    .dataframe tbody tr th:only-of-type {\n",
       "        vertical-align: middle;\n",
       "    }\n",
       "\n",
       "    .dataframe tbody tr th {\n",
       "        vertical-align: top;\n",
       "    }\n",
       "\n",
       "    .dataframe thead th {\n",
       "        text-align: right;\n",
       "    }\n",
       "</style>\n",
       "<table border=\"1\" class=\"dataframe\">\n",
       "  <thead>\n",
       "    <tr style=\"text-align: right;\">\n",
       "      <th></th>\n",
       "      <th>Actual</th>\n",
       "      <th>Predicted</th>\n",
       "    </tr>\n",
       "  </thead>\n",
       "  <tbody>\n",
       "    <tr>\n",
       "      <th>0</th>\n",
       "      <td>1</td>\n",
       "      <td>1.000000e+00</td>\n",
       "    </tr>\n",
       "    <tr>\n",
       "      <th>1</th>\n",
       "      <td>1</td>\n",
       "      <td>1.000000e+00</td>\n",
       "    </tr>\n",
       "    <tr>\n",
       "      <th>2</th>\n",
       "      <td>1</td>\n",
       "      <td>1.000000e+00</td>\n",
       "    </tr>\n",
       "    <tr>\n",
       "      <th>3</th>\n",
       "      <td>1</td>\n",
       "      <td>1.000000e+00</td>\n",
       "    </tr>\n",
       "    <tr>\n",
       "      <th>4</th>\n",
       "      <td>0</td>\n",
       "      <td>-3.336220e-14</td>\n",
       "    </tr>\n",
       "    <tr>\n",
       "      <th>5</th>\n",
       "      <td>0</td>\n",
       "      <td>-3.336220e-14</td>\n",
       "    </tr>\n",
       "    <tr>\n",
       "      <th>6</th>\n",
       "      <td>1</td>\n",
       "      <td>1.000000e+00</td>\n",
       "    </tr>\n",
       "    <tr>\n",
       "      <th>7</th>\n",
       "      <td>0</td>\n",
       "      <td>-3.336220e-14</td>\n",
       "    </tr>\n",
       "    <tr>\n",
       "      <th>8</th>\n",
       "      <td>0</td>\n",
       "      <td>-3.336220e-14</td>\n",
       "    </tr>\n",
       "    <tr>\n",
       "      <th>9</th>\n",
       "      <td>1</td>\n",
       "      <td>1.000000e+00</td>\n",
       "    </tr>\n",
       "    <tr>\n",
       "      <th>10</th>\n",
       "      <td>0</td>\n",
       "      <td>-3.336220e-14</td>\n",
       "    </tr>\n",
       "    <tr>\n",
       "      <th>11</th>\n",
       "      <td>0</td>\n",
       "      <td>-3.336220e-14</td>\n",
       "    </tr>\n",
       "    <tr>\n",
       "      <th>12</th>\n",
       "      <td>0</td>\n",
       "      <td>-3.336220e-14</td>\n",
       "    </tr>\n",
       "    <tr>\n",
       "      <th>13</th>\n",
       "      <td>0</td>\n",
       "      <td>-3.336220e-14</td>\n",
       "    </tr>\n",
       "    <tr>\n",
       "      <th>14</th>\n",
       "      <td>0</td>\n",
       "      <td>-3.336220e-14</td>\n",
       "    </tr>\n",
       "    <tr>\n",
       "      <th>15</th>\n",
       "      <td>0</td>\n",
       "      <td>-3.336220e-14</td>\n",
       "    </tr>\n",
       "    <tr>\n",
       "      <th>16</th>\n",
       "      <td>1</td>\n",
       "      <td>1.000000e+00</td>\n",
       "    </tr>\n",
       "    <tr>\n",
       "      <th>17</th>\n",
       "      <td>3</td>\n",
       "      <td>3.000000e+00</td>\n",
       "    </tr>\n",
       "    <tr>\n",
       "      <th>18</th>\n",
       "      <td>0</td>\n",
       "      <td>-3.336220e-14</td>\n",
       "    </tr>\n",
       "    <tr>\n",
       "      <th>19</th>\n",
       "      <td>0</td>\n",
       "      <td>-3.336220e-14</td>\n",
       "    </tr>\n",
       "    <tr>\n",
       "      <th>20</th>\n",
       "      <td>0</td>\n",
       "      <td>-3.336220e-14</td>\n",
       "    </tr>\n",
       "    <tr>\n",
       "      <th>21</th>\n",
       "      <td>0</td>\n",
       "      <td>-3.336220e-14</td>\n",
       "    </tr>\n",
       "    <tr>\n",
       "      <th>22</th>\n",
       "      <td>0</td>\n",
       "      <td>-3.336220e-14</td>\n",
       "    </tr>\n",
       "    <tr>\n",
       "      <th>23</th>\n",
       "      <td>1</td>\n",
       "      <td>1.000000e+00</td>\n",
       "    </tr>\n",
       "    <tr>\n",
       "      <th>24</th>\n",
       "      <td>0</td>\n",
       "      <td>-3.336220e-14</td>\n",
       "    </tr>\n",
       "    <tr>\n",
       "      <th>25</th>\n",
       "      <td>1</td>\n",
       "      <td>1.000000e+00</td>\n",
       "    </tr>\n",
       "    <tr>\n",
       "      <th>26</th>\n",
       "      <td>0</td>\n",
       "      <td>-3.336220e-14</td>\n",
       "    </tr>\n",
       "    <tr>\n",
       "      <th>27</th>\n",
       "      <td>0</td>\n",
       "      <td>-3.336220e-14</td>\n",
       "    </tr>\n",
       "    <tr>\n",
       "      <th>28</th>\n",
       "      <td>0</td>\n",
       "      <td>-3.336220e-14</td>\n",
       "    </tr>\n",
       "    <tr>\n",
       "      <th>29</th>\n",
       "      <td>1</td>\n",
       "      <td>1.000000e+00</td>\n",
       "    </tr>\n",
       "  </tbody>\n",
       "</table>\n",
       "</div>"
      ],
      "text/plain": [
       "    Actual     Predicted\n",
       "0        1  1.000000e+00\n",
       "1        1  1.000000e+00\n",
       "2        1  1.000000e+00\n",
       "3        1  1.000000e+00\n",
       "4        0 -3.336220e-14\n",
       "5        0 -3.336220e-14\n",
       "6        1  1.000000e+00\n",
       "7        0 -3.336220e-14\n",
       "8        0 -3.336220e-14\n",
       "9        1  1.000000e+00\n",
       "10       0 -3.336220e-14\n",
       "11       0 -3.336220e-14\n",
       "12       0 -3.336220e-14\n",
       "13       0 -3.336220e-14\n",
       "14       0 -3.336220e-14\n",
       "15       0 -3.336220e-14\n",
       "16       1  1.000000e+00\n",
       "17       3  3.000000e+00\n",
       "18       0 -3.336220e-14\n",
       "19       0 -3.336220e-14\n",
       "20       0 -3.336220e-14\n",
       "21       0 -3.336220e-14\n",
       "22       0 -3.336220e-14\n",
       "23       1  1.000000e+00\n",
       "24       0 -3.336220e-14\n",
       "25       1  1.000000e+00\n",
       "26       0 -3.336220e-14\n",
       "27       0 -3.336220e-14\n",
       "28       0 -3.336220e-14\n",
       "29       1  1.000000e+00"
      ]
     },
     "execution_count": 38,
     "metadata": {},
     "output_type": "execute_result"
    }
   ],
   "source": [
    "#Creating a dataframe comparing the actual and predicted values of y\n",
    "data = pd.DataFrame({'Actual': y_test.flatten(), 'Predicted': y_predicted.flatten()})\n",
    "data.head(30)"
   ]
  },
  {
   "cell_type": "markdown",
   "id": "27ef838d",
   "metadata": {},
   "source": [
    "The summary statistics of the model confirm that the model is accurate. There is practically no variance between the actual and prdicted values. An R2 score of 1.0 indicates a perfect fit and the near-zero MSE also confirms this. The slope of 1 shows that as the number of people injured increases, the number of people killed also increases."
   ]
  },
  {
   "cell_type": "code",
   "execution_count": 39,
   "id": "4f8b2bbb",
   "metadata": {},
   "outputs": [],
   "source": [
    "#Predicting X_train\n",
    "y_predicted_train = regression.predict(X_train) "
   ]
  },
  {
   "cell_type": "code",
   "execution_count": 40,
   "id": "90cc3ff7",
   "metadata": {},
   "outputs": [],
   "source": [
    "rmse = mean_squared_error(y_train, y_predicted_train)\n",
    "r2 = r2_score(y_train, y_predicted_train)"
   ]
  },
  {
   "cell_type": "code",
   "execution_count": 41,
   "id": "bdc4f5a3",
   "metadata": {},
   "outputs": [
    {
     "name": "stdout",
     "output_type": "stream",
     "text": [
      "Slope: [[1.]]\n",
      "Mean squared error:  2.3542666174408163e-27\n",
      "R2 score:  1.0\n"
     ]
    }
   ],
   "source": [
    "#Print summary statistics\n",
    "print('Slope:' ,regression.coef_)\n",
    "print('Mean squared error: ', rmse)\n",
    "print('R2 score: ', r2)"
   ]
  },
  {
   "cell_type": "code",
   "execution_count": 42,
   "id": "635469b8",
   "metadata": {},
   "outputs": [
    {
     "data": {
      "image/png": "[encoded data removed]",
      "text/plain": [
       "<Figure size 640x480 with 1 Axes>"
      ]
     },
     "metadata": {},
     "output_type": "display_data"
    }
   ],
   "source": [
    "#Visualizing the training set results\n",
    "plot_test = plt\n",
    "plot_test.scatter(X_train, y_train, color='green', s = 15)\n",
    "plot_test.plot(X_train, y_predicted_train, color='red', linewidth =3)\n",
    "plot_test.title('Number Injured vs Number Killed (Train set)')\n",
    "plot_test.xlabel('Number Injured')\n",
    "plot_test.ylabel('Number Killed')\n",
    "plot_test.show()"
   ]
  },
  {
   "cell_type": "markdown",
   "id": "6ffef630",
   "metadata": {},
   "source": [
    "The model's outcome on the training set is nearly identical to that on the test set. The MSE is practically 0 again and the slope and R2 score are both 1 again. This confirms that this a good model to use. "
   ]
  }
 ],
 "metadata": {
  "kernelspec": {
   "display_name": "Python 3 (ipykernel)",
   "language": "python",
   "name": "python3"
  },
  "language_info": {
   "codemirror_mode": {
    "name": "ipython",
    "version": 3
   },
   "file_extension": ".py",
   "mimetype": "text/x-python",
   "name": "python",
   "nbconvert_exporter": "python",
   "pygments_lexer": "ipython3",
   "version": "3.9.13"
  }
 },
 "nbformat": 4,
 "nbformat_minor": 5
}
