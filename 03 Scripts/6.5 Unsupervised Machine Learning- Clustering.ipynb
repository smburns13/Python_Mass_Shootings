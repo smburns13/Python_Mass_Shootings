{
 "cells": [
  {
   "cell_type": "markdown",
   "id": "6969da3a",
   "metadata": {},
   "source": [
    "# Notebook Contents\n",
    "1. Importing Libraries and Data\n",
    "2. Data Cleaning\n",
    "3. Elbow Technique\n",
    "4. K-means Clustering\n",
    "5. Descriptive Statistics"
   ]
  },
  {
   "cell_type": "markdown",
   "id": "c6d017c5",
   "metadata": {},
   "source": [
    "# 1. Importing Libraries and Data"
   ]
  },
  {
   "cell_type": "code",
   "execution_count": 1,
   "id": "f619c095",
   "metadata": {},
   "outputs": [],
   "source": [
    "import pandas as pd\n",
    "import numpy as np\n",
    "import seaborn as sns\n",
    "import matplotlib\n",
    "import matplotlib.pyplot as plt\n",
    "import os\n",
    "import sklearn\n",
    "from sklearn.cluster import KMeans \n",
    "import pylab as pl "
   ]
  },
  {
   "cell_type": "code",
   "execution_count": 2,
   "id": "804ae7ff",
   "metadata": {},
   "outputs": [],
   "source": [
    "#Ensuring the graphs created are displayed in your notebook without the need to \"call\" them specifically\n",
    "%matplotlib inline"
   ]
  },
  {
   "cell_type": "code",
   "execution_count": 3,
   "id": "6784e16b",
   "metadata": {},
   "outputs": [],
   "source": [
    "#Creating path\n",
    "path =r'C:\\Users\\smflo\\Documents\\Gun Violence Analysis'"
   ]
  },
  {
   "cell_type": "code",
   "execution_count": 4,
   "id": "0d652e63",
   "metadata": {},
   "outputs": [],
   "source": [
    "#Importing guns_clean_2.csv\n",
    "df_guns = pd.read_csv(os.path.join(path, '02 Data','Prepared Data','guns_clean_2.csv'), index_col = False)"
   ]
  },
  {
   "cell_type": "markdown",
   "id": "7eceb89d",
   "metadata": {},
   "source": [
    "# 2. Data Cleaning"
   ]
  },
  {
   "cell_type": "code",
   "execution_count": 5,
   "id": "04721a80",
   "metadata": {},
   "outputs": [
    {
     "data": {
      "text/html": [
       "<div>\n",
       "<style scoped>\n",
       "    .dataframe tbody tr th:only-of-type {\n",
       "        vertical-align: middle;\n",
       "    }\n",
       "\n",
       "    .dataframe tbody tr th {\n",
       "        vertical-align: top;\n",
       "    }\n",
       "\n",
       "    .dataframe thead th {\n",
       "        text-align: right;\n",
       "    }\n",
       "</style>\n",
       "<table border=\"1\" class=\"dataframe\">\n",
       "  <thead>\n",
       "    <tr style=\"text-align: right;\">\n",
       "      <th></th>\n",
       "      <th>Unnamed: 0.1</th>\n",
       "      <th>Unnamed: 0</th>\n",
       "      <th>incident_id</th>\n",
       "      <th>date</th>\n",
       "      <th>state</th>\n",
       "      <th>city_or_county</th>\n",
       "      <th>n_killed</th>\n",
       "      <th>n_injured</th>\n",
       "      <th>congressional_district</th>\n",
       "      <th>gun_type</th>\n",
       "      <th>incident_characteristics</th>\n",
       "      <th>n_guns_involved</th>\n",
       "      <th>participant_age</th>\n",
       "      <th>participant_age_group</th>\n",
       "      <th>participant_gender</th>\n",
       "      <th>participant_status</th>\n",
       "      <th>participant_type</th>\n",
       "      <th>state_house_district</th>\n",
       "      <th>state_senate_district</th>\n",
       "      <th>mass_shooting</th>\n",
       "    </tr>\n",
       "  </thead>\n",
       "  <tbody>\n",
       "    <tr>\n",
       "      <th>0</th>\n",
       "      <td>0</td>\n",
       "      <td>0</td>\n",
       "      <td>461105</td>\n",
       "      <td>1/1/2013</td>\n",
       "      <td>Pennsylvania</td>\n",
       "      <td>Mckeesport</td>\n",
       "      <td>0</td>\n",
       "      <td>4</td>\n",
       "      <td>14.0</td>\n",
       "      <td>NaN</td>\n",
       "      <td>Shot - Wounded/Injured||Mass Shooting (4+ vict...</td>\n",
       "      <td>1</td>\n",
       "      <td>0::20</td>\n",
       "      <td>0::Adult 18+||1::Adult 18+||2::Adult 18+||3::A...</td>\n",
       "      <td>0::Male||1::Male||3::Male||4::Female</td>\n",
       "      <td>0::Arrested||1::Injured||2::Injured||3::Injure...</td>\n",
       "      <td>0::Victim||1::Victim||2::Victim||3::Victim||4:...</td>\n",
       "      <td>NaN</td>\n",
       "      <td>NaN</td>\n",
       "      <td>1.0</td>\n",
       "    </tr>\n",
       "    <tr>\n",
       "      <th>1</th>\n",
       "      <td>1</td>\n",
       "      <td>1</td>\n",
       "      <td>460726</td>\n",
       "      <td>1/1/2013</td>\n",
       "      <td>California</td>\n",
       "      <td>Hawthorne</td>\n",
       "      <td>1</td>\n",
       "      <td>3</td>\n",
       "      <td>43.0</td>\n",
       "      <td>NaN</td>\n",
       "      <td>Shot - Wounded/Injured||Shot - Dead (murder, a...</td>\n",
       "      <td>1</td>\n",
       "      <td>0::20</td>\n",
       "      <td>0::Adult 18+||1::Adult 18+||2::Adult 18+||3::A...</td>\n",
       "      <td>0::Male</td>\n",
       "      <td>0::Killed||1::Injured||2::Injured||3::Injured</td>\n",
       "      <td>0::Victim||1::Victim||2::Victim||3::Victim||4:...</td>\n",
       "      <td>62.0</td>\n",
       "      <td>35.0</td>\n",
       "      <td>1.0</td>\n",
       "    </tr>\n",
       "    <tr>\n",
       "      <th>2</th>\n",
       "      <td>2</td>\n",
       "      <td>2</td>\n",
       "      <td>478855</td>\n",
       "      <td>1/1/2013</td>\n",
       "      <td>Ohio</td>\n",
       "      <td>Lorain</td>\n",
       "      <td>1</td>\n",
       "      <td>3</td>\n",
       "      <td>9.0</td>\n",
       "      <td>0::Unknown||1::Unknown</td>\n",
       "      <td>Shot - Wounded/Injured||Shot - Dead (murder, a...</td>\n",
       "      <td>2</td>\n",
       "      <td>0::25||1::31||2::33||3::34||4::33</td>\n",
       "      <td>0::Adult 18+||1::Adult 18+||2::Adult 18+||3::A...</td>\n",
       "      <td>0::Male||1::Male||2::Male||3::Male||4::Male</td>\n",
       "      <td>0::Injured, Unharmed, Arrested||1::Unharmed, A...</td>\n",
       "      <td>0::Subject-Suspect||1::Subject-Suspect||2::Vic...</td>\n",
       "      <td>56.0</td>\n",
       "      <td>13.0</td>\n",
       "      <td>NaN</td>\n",
       "    </tr>\n",
       "    <tr>\n",
       "      <th>3</th>\n",
       "      <td>3</td>\n",
       "      <td>3</td>\n",
       "      <td>478925</td>\n",
       "      <td>1/5/2013</td>\n",
       "      <td>Colorado</td>\n",
       "      <td>Aurora</td>\n",
       "      <td>4</td>\n",
       "      <td>0</td>\n",
       "      <td>6.0</td>\n",
       "      <td>NaN</td>\n",
       "      <td>Shot - Dead (murder, accidental, suicide)||Off...</td>\n",
       "      <td>1</td>\n",
       "      <td>0::29||1::33||2::56||3::33</td>\n",
       "      <td>0::Adult 18+||1::Adult 18+||2::Adult 18+||3::A...</td>\n",
       "      <td>0::Female||1::Male||2::Male||3::Male</td>\n",
       "      <td>0::Killed||1::Killed||2::Killed||3::Killed</td>\n",
       "      <td>0::Victim||1::Victim||2::Victim||3::Subject-Su...</td>\n",
       "      <td>40.0</td>\n",
       "      <td>28.0</td>\n",
       "      <td>NaN</td>\n",
       "    </tr>\n",
       "    <tr>\n",
       "      <th>4</th>\n",
       "      <td>4</td>\n",
       "      <td>4</td>\n",
       "      <td>478959</td>\n",
       "      <td>1/7/2013</td>\n",
       "      <td>North Carolina</td>\n",
       "      <td>Greensboro</td>\n",
       "      <td>2</td>\n",
       "      <td>2</td>\n",
       "      <td>6.0</td>\n",
       "      <td>0::Handgun||1::Handgun</td>\n",
       "      <td>Shot - Wounded/Injured||Shot - Dead (murder, a...</td>\n",
       "      <td>2</td>\n",
       "      <td>0::18||1::46||2::14||3::47</td>\n",
       "      <td>0::Adult 18+||1::Adult 18+||2::Teen 12-17||3::...</td>\n",
       "      <td>0::Female||1::Male||2::Male||3::Female</td>\n",
       "      <td>0::Injured||1::Injured||2::Killed||3::Killed</td>\n",
       "      <td>0::Victim||1::Victim||2::Victim||3::Subject-Su...</td>\n",
       "      <td>62.0</td>\n",
       "      <td>27.0</td>\n",
       "      <td>NaN</td>\n",
       "    </tr>\n",
       "  </tbody>\n",
       "</table>\n",
       "</div>"
      ],
      "text/plain": [
       "   Unnamed: 0.1  Unnamed: 0  incident_id      date           state  \\\n",
       "0             0           0       461105  1/1/2013    Pennsylvania   \n",
       "1             1           1       460726  1/1/2013      California   \n",
       "2             2           2       478855  1/1/2013            Ohio   \n",
       "3             3           3       478925  1/5/2013        Colorado   \n",
       "4             4           4       478959  1/7/2013  North Carolina   \n",
       "\n",
       "  city_or_county  n_killed  n_injured  congressional_district  \\\n",
       "0     Mckeesport         0          4                    14.0   \n",
       "1      Hawthorne         1          3                    43.0   \n",
       "2         Lorain         1          3                     9.0   \n",
       "3         Aurora         4          0                     6.0   \n",
       "4     Greensboro         2          2                     6.0   \n",
       "\n",
       "                 gun_type                           incident_characteristics  \\\n",
       "0                     NaN  Shot - Wounded/Injured||Mass Shooting (4+ vict...   \n",
       "1                     NaN  Shot - Wounded/Injured||Shot - Dead (murder, a...   \n",
       "2  0::Unknown||1::Unknown  Shot - Wounded/Injured||Shot - Dead (murder, a...   \n",
       "3                     NaN  Shot - Dead (murder, accidental, suicide)||Off...   \n",
       "4  0::Handgun||1::Handgun  Shot - Wounded/Injured||Shot - Dead (murder, a...   \n",
       "\n",
       "   n_guns_involved                    participant_age  \\\n",
       "0                1                              0::20   \n",
       "1                1                              0::20   \n",
       "2                2  0::25||1::31||2::33||3::34||4::33   \n",
       "3                1         0::29||1::33||2::56||3::33   \n",
       "4                2         0::18||1::46||2::14||3::47   \n",
       "\n",
       "                               participant_age_group  \\\n",
       "0  0::Adult 18+||1::Adult 18+||2::Adult 18+||3::A...   \n",
       "1  0::Adult 18+||1::Adult 18+||2::Adult 18+||3::A...   \n",
       "2  0::Adult 18+||1::Adult 18+||2::Adult 18+||3::A...   \n",
       "3  0::Adult 18+||1::Adult 18+||2::Adult 18+||3::A...   \n",
       "4  0::Adult 18+||1::Adult 18+||2::Teen 12-17||3::...   \n",
       "\n",
       "                            participant_gender  \\\n",
       "0         0::Male||1::Male||3::Male||4::Female   \n",
       "1                                      0::Male   \n",
       "2  0::Male||1::Male||2::Male||3::Male||4::Male   \n",
       "3         0::Female||1::Male||2::Male||3::Male   \n",
       "4       0::Female||1::Male||2::Male||3::Female   \n",
       "\n",
       "                                  participant_status  \\\n",
       "0  0::Arrested||1::Injured||2::Injured||3::Injure...   \n",
       "1      0::Killed||1::Injured||2::Injured||3::Injured   \n",
       "2  0::Injured, Unharmed, Arrested||1::Unharmed, A...   \n",
       "3         0::Killed||1::Killed||2::Killed||3::Killed   \n",
       "4       0::Injured||1::Injured||2::Killed||3::Killed   \n",
       "\n",
       "                                    participant_type  state_house_district  \\\n",
       "0  0::Victim||1::Victim||2::Victim||3::Victim||4:...                   NaN   \n",
       "1  0::Victim||1::Victim||2::Victim||3::Victim||4:...                  62.0   \n",
       "2  0::Subject-Suspect||1::Subject-Suspect||2::Vic...                  56.0   \n",
       "3  0::Victim||1::Victim||2::Victim||3::Subject-Su...                  40.0   \n",
       "4  0::Victim||1::Victim||2::Victim||3::Subject-Su...                  62.0   \n",
       "\n",
       "   state_senate_district  mass_shooting  \n",
       "0                    NaN            1.0  \n",
       "1                   35.0            1.0  \n",
       "2                   13.0            NaN  \n",
       "3                   28.0            NaN  \n",
       "4                   27.0            NaN  "
      ]
     },
     "execution_count": 5,
     "metadata": {},
     "output_type": "execute_result"
    }
   ],
   "source": [
    "#Viewing first 5 rows\n",
    "df_guns.head()"
   ]
  },
  {
   "cell_type": "code",
   "execution_count": 6,
   "id": "fa87e14d",
   "metadata": {},
   "outputs": [],
   "source": [
    "#Removing column 'Unnamed: 0'\n",
    "df_guns.drop('Unnamed: 0', axis = 1, inplace = True)"
   ]
  },
  {
   "cell_type": "code",
   "execution_count": 7,
   "id": "e05ec39e",
   "metadata": {},
   "outputs": [],
   "source": [
    "#Removing column 'Unnamed: 0.1'\n",
    "df_guns.drop('Unnamed: 0.1', axis = 1, inplace = True)"
   ]
  },
  {
   "cell_type": "code",
   "execution_count": 8,
   "id": "1bc191f2",
   "metadata": {},
   "outputs": [
    {
     "data": {
      "text/html": [
       "<div>\n",
       "<style scoped>\n",
       "    .dataframe tbody tr th:only-of-type {\n",
       "        vertical-align: middle;\n",
       "    }\n",
       "\n",
       "    .dataframe tbody tr th {\n",
       "        vertical-align: top;\n",
       "    }\n",
       "\n",
       "    .dataframe thead th {\n",
       "        text-align: right;\n",
       "    }\n",
       "</style>\n",
       "<table border=\"1\" class=\"dataframe\">\n",
       "  <thead>\n",
       "    <tr style=\"text-align: right;\">\n",
       "      <th></th>\n",
       "      <th>incident_id</th>\n",
       "      <th>date</th>\n",
       "      <th>state</th>\n",
       "      <th>city_or_county</th>\n",
       "      <th>n_killed</th>\n",
       "      <th>n_injured</th>\n",
       "      <th>congressional_district</th>\n",
       "      <th>gun_type</th>\n",
       "      <th>incident_characteristics</th>\n",
       "      <th>n_guns_involved</th>\n",
       "      <th>participant_age</th>\n",
       "      <th>participant_age_group</th>\n",
       "      <th>participant_gender</th>\n",
       "      <th>participant_status</th>\n",
       "      <th>participant_type</th>\n",
       "      <th>state_house_district</th>\n",
       "      <th>state_senate_district</th>\n",
       "      <th>mass_shooting</th>\n",
       "    </tr>\n",
       "  </thead>\n",
       "  <tbody>\n",
       "    <tr>\n",
       "      <th>0</th>\n",
       "      <td>461105</td>\n",
       "      <td>1/1/2013</td>\n",
       "      <td>Pennsylvania</td>\n",
       "      <td>Mckeesport</td>\n",
       "      <td>0</td>\n",
       "      <td>4</td>\n",
       "      <td>14.0</td>\n",
       "      <td>NaN</td>\n",
       "      <td>Shot - Wounded/Injured||Mass Shooting (4+ vict...</td>\n",
       "      <td>1</td>\n",
       "      <td>0::20</td>\n",
       "      <td>0::Adult 18+||1::Adult 18+||2::Adult 18+||3::A...</td>\n",
       "      <td>0::Male||1::Male||3::Male||4::Female</td>\n",
       "      <td>0::Arrested||1::Injured||2::Injured||3::Injure...</td>\n",
       "      <td>0::Victim||1::Victim||2::Victim||3::Victim||4:...</td>\n",
       "      <td>NaN</td>\n",
       "      <td>NaN</td>\n",
       "      <td>1.0</td>\n",
       "    </tr>\n",
       "    <tr>\n",
       "      <th>1</th>\n",
       "      <td>460726</td>\n",
       "      <td>1/1/2013</td>\n",
       "      <td>California</td>\n",
       "      <td>Hawthorne</td>\n",
       "      <td>1</td>\n",
       "      <td>3</td>\n",
       "      <td>43.0</td>\n",
       "      <td>NaN</td>\n",
       "      <td>Shot - Wounded/Injured||Shot - Dead (murder, a...</td>\n",
       "      <td>1</td>\n",
       "      <td>0::20</td>\n",
       "      <td>0::Adult 18+||1::Adult 18+||2::Adult 18+||3::A...</td>\n",
       "      <td>0::Male</td>\n",
       "      <td>0::Killed||1::Injured||2::Injured||3::Injured</td>\n",
       "      <td>0::Victim||1::Victim||2::Victim||3::Victim||4:...</td>\n",
       "      <td>62.0</td>\n",
       "      <td>35.0</td>\n",
       "      <td>1.0</td>\n",
       "    </tr>\n",
       "    <tr>\n",
       "      <th>2</th>\n",
       "      <td>478855</td>\n",
       "      <td>1/1/2013</td>\n",
       "      <td>Ohio</td>\n",
       "      <td>Lorain</td>\n",
       "      <td>1</td>\n",
       "      <td>3</td>\n",
       "      <td>9.0</td>\n",
       "      <td>0::Unknown||1::Unknown</td>\n",
       "      <td>Shot - Wounded/Injured||Shot - Dead (murder, a...</td>\n",
       "      <td>2</td>\n",
       "      <td>0::25||1::31||2::33||3::34||4::33</td>\n",
       "      <td>0::Adult 18+||1::Adult 18+||2::Adult 18+||3::A...</td>\n",
       "      <td>0::Male||1::Male||2::Male||3::Male||4::Male</td>\n",
       "      <td>0::Injured, Unharmed, Arrested||1::Unharmed, A...</td>\n",
       "      <td>0::Subject-Suspect||1::Subject-Suspect||2::Vic...</td>\n",
       "      <td>56.0</td>\n",
       "      <td>13.0</td>\n",
       "      <td>NaN</td>\n",
       "    </tr>\n",
       "    <tr>\n",
       "      <th>3</th>\n",
       "      <td>478925</td>\n",
       "      <td>1/5/2013</td>\n",
       "      <td>Colorado</td>\n",
       "      <td>Aurora</td>\n",
       "      <td>4</td>\n",
       "      <td>0</td>\n",
       "      <td>6.0</td>\n",
       "      <td>NaN</td>\n",
       "      <td>Shot - Dead (murder, accidental, suicide)||Off...</td>\n",
       "      <td>1</td>\n",
       "      <td>0::29||1::33||2::56||3::33</td>\n",
       "      <td>0::Adult 18+||1::Adult 18+||2::Adult 18+||3::A...</td>\n",
       "      <td>0::Female||1::Male||2::Male||3::Male</td>\n",
       "      <td>0::Killed||1::Killed||2::Killed||3::Killed</td>\n",
       "      <td>0::Victim||1::Victim||2::Victim||3::Subject-Su...</td>\n",
       "      <td>40.0</td>\n",
       "      <td>28.0</td>\n",
       "      <td>NaN</td>\n",
       "    </tr>\n",
       "    <tr>\n",
       "      <th>4</th>\n",
       "      <td>478959</td>\n",
       "      <td>1/7/2013</td>\n",
       "      <td>North Carolina</td>\n",
       "      <td>Greensboro</td>\n",
       "      <td>2</td>\n",
       "      <td>2</td>\n",
       "      <td>6.0</td>\n",
       "      <td>0::Handgun||1::Handgun</td>\n",
       "      <td>Shot - Wounded/Injured||Shot - Dead (murder, a...</td>\n",
       "      <td>2</td>\n",
       "      <td>0::18||1::46||2::14||3::47</td>\n",
       "      <td>0::Adult 18+||1::Adult 18+||2::Teen 12-17||3::...</td>\n",
       "      <td>0::Female||1::Male||2::Male||3::Female</td>\n",
       "      <td>0::Injured||1::Injured||2::Killed||3::Killed</td>\n",
       "      <td>0::Victim||1::Victim||2::Victim||3::Subject-Su...</td>\n",
       "      <td>62.0</td>\n",
       "      <td>27.0</td>\n",
       "      <td>NaN</td>\n",
       "    </tr>\n",
       "  </tbody>\n",
       "</table>\n",
       "</div>"
      ],
      "text/plain": [
       "   incident_id      date           state city_or_county  n_killed  n_injured  \\\n",
       "0       461105  1/1/2013    Pennsylvania     Mckeesport         0          4   \n",
       "1       460726  1/1/2013      California      Hawthorne         1          3   \n",
       "2       478855  1/1/2013            Ohio         Lorain         1          3   \n",
       "3       478925  1/5/2013        Colorado         Aurora         4          0   \n",
       "4       478959  1/7/2013  North Carolina     Greensboro         2          2   \n",
       "\n",
       "   congressional_district                gun_type  \\\n",
       "0                    14.0                     NaN   \n",
       "1                    43.0                     NaN   \n",
       "2                     9.0  0::Unknown||1::Unknown   \n",
       "3                     6.0                     NaN   \n",
       "4                     6.0  0::Handgun||1::Handgun   \n",
       "\n",
       "                            incident_characteristics  n_guns_involved  \\\n",
       "0  Shot - Wounded/Injured||Mass Shooting (4+ vict...                1   \n",
       "1  Shot - Wounded/Injured||Shot - Dead (murder, a...                1   \n",
       "2  Shot - Wounded/Injured||Shot - Dead (murder, a...                2   \n",
       "3  Shot - Dead (murder, accidental, suicide)||Off...                1   \n",
       "4  Shot - Wounded/Injured||Shot - Dead (murder, a...                2   \n",
       "\n",
       "                     participant_age  \\\n",
       "0                              0::20   \n",
       "1                              0::20   \n",
       "2  0::25||1::31||2::33||3::34||4::33   \n",
       "3         0::29||1::33||2::56||3::33   \n",
       "4         0::18||1::46||2::14||3::47   \n",
       "\n",
       "                               participant_age_group  \\\n",
       "0  0::Adult 18+||1::Adult 18+||2::Adult 18+||3::A...   \n",
       "1  0::Adult 18+||1::Adult 18+||2::Adult 18+||3::A...   \n",
       "2  0::Adult 18+||1::Adult 18+||2::Adult 18+||3::A...   \n",
       "3  0::Adult 18+||1::Adult 18+||2::Adult 18+||3::A...   \n",
       "4  0::Adult 18+||1::Adult 18+||2::Teen 12-17||3::...   \n",
       "\n",
       "                            participant_gender  \\\n",
       "0         0::Male||1::Male||3::Male||4::Female   \n",
       "1                                      0::Male   \n",
       "2  0::Male||1::Male||2::Male||3::Male||4::Male   \n",
       "3         0::Female||1::Male||2::Male||3::Male   \n",
       "4       0::Female||1::Male||2::Male||3::Female   \n",
       "\n",
       "                                  participant_status  \\\n",
       "0  0::Arrested||1::Injured||2::Injured||3::Injure...   \n",
       "1      0::Killed||1::Injured||2::Injured||3::Injured   \n",
       "2  0::Injured, Unharmed, Arrested||1::Unharmed, A...   \n",
       "3         0::Killed||1::Killed||2::Killed||3::Killed   \n",
       "4       0::Injured||1::Injured||2::Killed||3::Killed   \n",
       "\n",
       "                                    participant_type  state_house_district  \\\n",
       "0  0::Victim||1::Victim||2::Victim||3::Victim||4:...                   NaN   \n",
       "1  0::Victim||1::Victim||2::Victim||3::Victim||4:...                  62.0   \n",
       "2  0::Subject-Suspect||1::Subject-Suspect||2::Vic...                  56.0   \n",
       "3  0::Victim||1::Victim||2::Victim||3::Subject-Su...                  40.0   \n",
       "4  0::Victim||1::Victim||2::Victim||3::Subject-Su...                  62.0   \n",
       "\n",
       "   state_senate_district  mass_shooting  \n",
       "0                    NaN            1.0  \n",
       "1                   35.0            1.0  \n",
       "2                   13.0            NaN  \n",
       "3                   28.0            NaN  \n",
       "4                   27.0            NaN  "
      ]
     },
     "execution_count": 8,
     "metadata": {},
     "output_type": "execute_result"
    }
   ],
   "source": [
    "#Checking output\n",
    "df_guns.head()"
   ]
  },
  {
   "cell_type": "code",
   "execution_count": 9,
   "id": "562d5fe6",
   "metadata": {},
   "outputs": [],
   "source": [
    "#Removing all categorical variables\n",
    "df_guns.drop(['incident_id', 'date', 'state', 'city_or_county', 'gun_type', 'incident_characteristics', 'participant_age', 'participant_age_group', 'participant_gender', 'participant_status', 'participant_type'], axis = 1, inplace = True)"
   ]
  },
  {
   "cell_type": "code",
   "execution_count": 10,
   "id": "8d779eba",
   "metadata": {},
   "outputs": [
    {
     "data": {
      "text/plain": [
       "n_killed                       0\n",
       "n_injured                      0\n",
       "congressional_district     11944\n",
       "n_guns_involved                0\n",
       "state_house_district       38772\n",
       "state_senate_district      32335\n",
       "mass_shooting             238040\n",
       "dtype: int64"
      ]
     },
     "execution_count": 10,
     "metadata": {},
     "output_type": "execute_result"
    }
   ],
   "source": [
    "#Checking for missing values\n",
    "df_guns.isnull().sum()"
   ]
  },
  {
   "cell_type": "code",
   "execution_count": 11,
   "id": "0d202067",
   "metadata": {},
   "outputs": [],
   "source": [
    "#Filling in missing values with \"0\"\n",
    "df_guns['mass_shooting'].fillna(0, inplace=True)"
   ]
  },
  {
   "cell_type": "code",
   "execution_count": 12,
   "id": "aef0fe29",
   "metadata": {},
   "outputs": [],
   "source": [
    "#Removing variables due to missing data \n",
    "df_guns.drop(['congressional_district', 'state_house_district', 'state_senate_district'], axis = 1, inplace = True)"
   ]
  },
  {
   "cell_type": "markdown",
   "id": "35462407",
   "metadata": {},
   "source": [
    "# 3. Elbow Technique"
   ]
  },
  {
   "cell_type": "code",
   "execution_count": 13,
   "id": "477f725b",
   "metadata": {},
   "outputs": [],
   "source": [
    "num_cl = range(1, 10) # Defines the range of potential clusters in the data.\n",
    "kmeans = [KMeans(n_clusters=i) for i in num_cl] # Defines k-means clusters in the range assigned above."
   ]
  },
  {
   "cell_type": "code",
   "execution_count": 14,
   "id": "55bea3bb",
   "metadata": {},
   "outputs": [
    {
     "data": {
      "text/plain": [
       "[-3271560.8871522415,\n",
       " -1358104.6552102026,\n",
       " -749765.0547709632,\n",
       " -486638.4666431353,\n",
       " -395589.8610100194,\n",
       " -304945.3127799195,\n",
       " -250269.0242465578,\n",
       " -208301.15381771384,\n",
       " -175116.65589797188]"
      ]
     },
     "execution_count": 14,
     "metadata": {},
     "output_type": "execute_result"
    }
   ],
   "source": [
    "score = [kmeans[i].fit(df_guns).score(df_guns) for i in range(len(kmeans))] # Creates a score that represents\n",
    "# a rate of variation for the given cluster option.\n",
    "\n",
    "score"
   ]
  },
  {
   "cell_type": "code",
   "execution_count": 15,
   "id": "6e51b9a6",
   "metadata": {},
   "outputs": [
    {
     "data": {
      "image/png": "[encoded data removed]",
      "text/plain": [
       "<Figure size 640x480 with 1 Axes>"
      ]
     },
     "metadata": {},
     "output_type": "display_data"
    }
   ],
   "source": [
    "# Plot the elbow curve using PyLab.\n",
    "pl.plot(num_cl,score)\n",
    "pl.xlabel('Number of Clusters')\n",
    "pl.ylabel('Score')\n",
    "pl.title('Elbow Curve')\n",
    "pl.show()"
   ]
  },
  {
   "cell_type": "markdown",
   "id": "024ed4b5",
   "metadata": {},
   "source": [
    "The line curves and starts to flatten around 4 so I will do 4 clusters."
   ]
  },
  {
   "cell_type": "markdown",
   "id": "41156016",
   "metadata": {},
   "source": [
    "# 4. K-means Clustering"
   ]
  },
  {
   "cell_type": "code",
   "execution_count": 16,
   "id": "f380f5bb",
   "metadata": {},
   "outputs": [],
   "source": [
    "#Creating the k-means object\n",
    "kmeans = KMeans(n_clusters = 4) "
   ]
  },
  {
   "cell_type": "code",
   "execution_count": 17,
   "id": "684ae01b",
   "metadata": {},
   "outputs": [
    {
     "data": {
      "text/plain": [
       "KMeans(n_clusters=4)"
      ]
     },
     "execution_count": 17,
     "metadata": {},
     "output_type": "execute_result"
    }
   ],
   "source": [
    "#Fitting the k-means object to the data\n",
    "kmeans.fit(df_guns)"
   ]
  },
  {
   "cell_type": "code",
   "execution_count": 18,
   "id": "829e3285",
   "metadata": {},
   "outputs": [],
   "source": [
    "#Creating a column in the dataframe with values corresponding to which cluster every observation belongs\n",
    "df_guns['clusters'] = kmeans.fit_predict(df_guns)"
   ]
  },
  {
   "cell_type": "code",
   "execution_count": 19,
   "id": "8b988b56",
   "metadata": {},
   "outputs": [
    {
     "data": {
      "text/html": [
       "<div>\n",
       "<style scoped>\n",
       "    .dataframe tbody tr th:only-of-type {\n",
       "        vertical-align: middle;\n",
       "    }\n",
       "\n",
       "    .dataframe tbody tr th {\n",
       "        vertical-align: top;\n",
       "    }\n",
       "\n",
       "    .dataframe thead th {\n",
       "        text-align: right;\n",
       "    }\n",
       "</style>\n",
       "<table border=\"1\" class=\"dataframe\">\n",
       "  <thead>\n",
       "    <tr style=\"text-align: right;\">\n",
       "      <th></th>\n",
       "      <th>n_killed</th>\n",
       "      <th>n_injured</th>\n",
       "      <th>n_guns_involved</th>\n",
       "      <th>mass_shooting</th>\n",
       "      <th>clusters</th>\n",
       "    </tr>\n",
       "  </thead>\n",
       "  <tbody>\n",
       "    <tr>\n",
       "      <th>0</th>\n",
       "      <td>0</td>\n",
       "      <td>4</td>\n",
       "      <td>1</td>\n",
       "      <td>1.0</td>\n",
       "      <td>0</td>\n",
       "    </tr>\n",
       "    <tr>\n",
       "      <th>1</th>\n",
       "      <td>1</td>\n",
       "      <td>3</td>\n",
       "      <td>1</td>\n",
       "      <td>1.0</td>\n",
       "      <td>0</td>\n",
       "    </tr>\n",
       "    <tr>\n",
       "      <th>2</th>\n",
       "      <td>1</td>\n",
       "      <td>3</td>\n",
       "      <td>2</td>\n",
       "      <td>0.0</td>\n",
       "      <td>0</td>\n",
       "    </tr>\n",
       "    <tr>\n",
       "      <th>3</th>\n",
       "      <td>4</td>\n",
       "      <td>0</td>\n",
       "      <td>1</td>\n",
       "      <td>0.0</td>\n",
       "      <td>0</td>\n",
       "    </tr>\n",
       "    <tr>\n",
       "      <th>4</th>\n",
       "      <td>2</td>\n",
       "      <td>2</td>\n",
       "      <td>2</td>\n",
       "      <td>0.0</td>\n",
       "      <td>0</td>\n",
       "    </tr>\n",
       "  </tbody>\n",
       "</table>\n",
       "</div>"
      ],
      "text/plain": [
       "   n_killed  n_injured  n_guns_involved  mass_shooting  clusters\n",
       "0         0          4                1            1.0         0\n",
       "1         1          3                1            1.0         0\n",
       "2         1          3                2            0.0         0\n",
       "3         4          0                1            0.0         0\n",
       "4         2          2                2            0.0         0"
      ]
     },
     "execution_count": 19,
     "metadata": {},
     "output_type": "execute_result"
    }
   ],
   "source": [
    "#Checking output of column created\n",
    "df_guns.head()"
   ]
  },
  {
   "cell_type": "code",
   "execution_count": 20,
   "id": "2aa273f8",
   "metadata": {},
   "outputs": [
    {
     "data": {
      "text/plain": [
       "0    238831\n",
       "3       785\n",
       "2        46\n",
       "1        15\n",
       "Name: clusters, dtype: int64"
      ]
     },
     "execution_count": 20,
     "metadata": {},
     "output_type": "execute_result"
    }
   ],
   "source": [
    "#Checking value counts of each cluster\n",
    "df_guns['clusters'].value_counts()"
   ]
  },
  {
   "cell_type": "code",
   "execution_count": 21,
   "id": "421d85f6",
   "metadata": {},
   "outputs": [
    {
     "data": {
      "image/png": "[encoded data removed]",
      "text/plain": [
       "<Figure size 1200x800 with 1 Axes>"
      ]
     },
     "metadata": {},
     "output_type": "display_data"
    }
   ],
   "source": [
    "#Plotting the clusters for the \"n_injured\" and \"n_guns_involved\" variables.\n",
    "plt.figure(figsize=(12,8))\n",
    "ax = sns.scatterplot(x=df_guns['n_injured'], y=df_guns['n_guns_involved'], hue=kmeans.labels_, s=100) \n",
    "ax.grid(False) \n",
    "plt.xlabel('Number Injured') \n",
    "plt.ylabel('Number of Guns Involved') \n",
    "plt.show()"
   ]
  },
  {
   "cell_type": "code",
   "execution_count": 22,
   "id": "fb12b935",
   "metadata": {},
   "outputs": [
    {
     "data": {
      "image/png": "[encoded data removed]",
      "text/plain": [
       "<Figure size 1200x800 with 1 Axes>"
      ]
     },
     "metadata": {},
     "output_type": "display_data"
    }
   ],
   "source": [
    "#Plotting the clusters for the \"n_killed\" and \"n_guns_involved\" variables.\n",
    "plt.figure(figsize=(12,8))\n",
    "ax = sns.scatterplot(x=df_guns['n_killed'], y=df_guns['n_guns_involved'], hue=kmeans.labels_, s=100) \n",
    "ax.grid(False) \n",
    "plt.xlabel('Number Killed') \n",
    "plt.ylabel('Number of Guns Involved') \n",
    "plt.show()"
   ]
  },
  {
   "cell_type": "markdown",
   "id": "cc9f659f",
   "metadata": {},
   "source": [
    "### Observations"
   ]
  },
  {
   "cell_type": "markdown",
   "id": "22efd592",
   "metadata": {},
   "source": [
    "Both of the plots are fairly similar to one another. Most of the gun violence incidents involve less than 200 guns involved and less than 5 people injured or killed. You can see by looking at the plots that the number of people injured or killed does not increase as the number of guns involved increases. The light pink color represents approximately 1-19 guns involved, black is about 20-69, dark purple is about 70-200, and pink is about 200+ guns involved."
   ]
  },
  {
   "cell_type": "markdown",
   "id": "514c6322",
   "metadata": {},
   "source": [
    "# 5. Descriptive Statistics"
   ]
  },
  {
   "cell_type": "code",
   "execution_count": 23,
   "id": "df507731",
   "metadata": {},
   "outputs": [],
   "source": [
    "#Relabeling clusters from numbers to colors\n",
    "df_guns.loc[df_guns['clusters'] == 3, 'cluster'] = 'black'\n",
    "df_guns.loc[df_guns['clusters'] == 2, 'cluster'] = 'dark purple'\n",
    "df_guns.loc[df_guns['clusters'] == 1, 'cluster'] = 'pink'\n",
    "df_guns.loc[df_guns['clusters'] == 0, 'cluster'] = 'light pink'"
   ]
  },
  {
   "cell_type": "code",
   "execution_count": 24,
   "id": "52ddf6a0",
   "metadata": {},
   "outputs": [
    {
     "data": {
      "text/html": [
       "<div>\n",
       "<style scoped>\n",
       "    .dataframe tbody tr th:only-of-type {\n",
       "        vertical-align: middle;\n",
       "    }\n",
       "\n",
       "    .dataframe tbody tr th {\n",
       "        vertical-align: top;\n",
       "    }\n",
       "\n",
       "    .dataframe thead tr th {\n",
       "        text-align: left;\n",
       "    }\n",
       "\n",
       "    .dataframe thead tr:last-of-type th {\n",
       "        text-align: right;\n",
       "    }\n",
       "</style>\n",
       "<table border=\"1\" class=\"dataframe\">\n",
       "  <thead>\n",
       "    <tr>\n",
       "      <th></th>\n",
       "      <th colspan=\"2\" halign=\"left\">n_killed</th>\n",
       "      <th colspan=\"2\" halign=\"left\">n_injured</th>\n",
       "      <th colspan=\"2\" halign=\"left\">n_guns_involved</th>\n",
       "      <th colspan=\"2\" halign=\"left\">mass_shooting</th>\n",
       "    </tr>\n",
       "    <tr>\n",
       "      <th></th>\n",
       "      <th>mean</th>\n",
       "      <th>median</th>\n",
       "      <th>mean</th>\n",
       "      <th>median</th>\n",
       "      <th>mean</th>\n",
       "      <th>median</th>\n",
       "      <th>mean</th>\n",
       "      <th>median</th>\n",
       "    </tr>\n",
       "    <tr>\n",
       "      <th>cluster</th>\n",
       "      <th></th>\n",
       "      <th></th>\n",
       "      <th></th>\n",
       "      <th></th>\n",
       "      <th></th>\n",
       "      <th></th>\n",
       "      <th></th>\n",
       "      <th></th>\n",
       "    </tr>\n",
       "  </thead>\n",
       "  <tbody>\n",
       "    <tr>\n",
       "      <th>black</th>\n",
       "      <td>0.028025</td>\n",
       "      <td>0.0</td>\n",
       "      <td>0.010191</td>\n",
       "      <td>0.0</td>\n",
       "      <td>24.717197</td>\n",
       "      <td>21.0</td>\n",
       "      <td>0.000000</td>\n",
       "      <td>0.0</td>\n",
       "    </tr>\n",
       "    <tr>\n",
       "      <th>dark purple</th>\n",
       "      <td>0.021739</td>\n",
       "      <td>0.0</td>\n",
       "      <td>0.000000</td>\n",
       "      <td>0.0</td>\n",
       "      <td>117.586957</td>\n",
       "      <td>100.0</td>\n",
       "      <td>0.000000</td>\n",
       "      <td>0.0</td>\n",
       "    </tr>\n",
       "    <tr>\n",
       "      <th>light pink</th>\n",
       "      <td>0.253087</td>\n",
       "      <td>0.0</td>\n",
       "      <td>0.495723</td>\n",
       "      <td>0.0</td>\n",
       "      <td>1.096956</td>\n",
       "      <td>1.0</td>\n",
       "      <td>0.006854</td>\n",
       "      <td>0.0</td>\n",
       "    </tr>\n",
       "    <tr>\n",
       "      <th>pink</th>\n",
       "      <td>0.000000</td>\n",
       "      <td>0.0</td>\n",
       "      <td>0.000000</td>\n",
       "      <td>0.0</td>\n",
       "      <td>340.266667</td>\n",
       "      <td>338.0</td>\n",
       "      <td>0.000000</td>\n",
       "      <td>0.0</td>\n",
       "    </tr>\n",
       "  </tbody>\n",
       "</table>\n",
       "</div>"
      ],
      "text/plain": [
       "             n_killed        n_injured        n_guns_involved         \\\n",
       "                 mean median      mean median            mean median   \n",
       "cluster                                                                \n",
       "black        0.028025    0.0  0.010191    0.0       24.717197   21.0   \n",
       "dark purple  0.021739    0.0  0.000000    0.0      117.586957  100.0   \n",
       "light pink   0.253087    0.0  0.495723    0.0        1.096956    1.0   \n",
       "pink         0.000000    0.0  0.000000    0.0      340.266667  338.0   \n",
       "\n",
       "            mass_shooting         \n",
       "                     mean median  \n",
       "cluster                           \n",
       "black            0.000000    0.0  \n",
       "dark purple      0.000000    0.0  \n",
       "light pink       0.006854    0.0  \n",
       "pink             0.000000    0.0  "
      ]
     },
     "execution_count": 24,
     "metadata": {},
     "output_type": "execute_result"
    }
   ],
   "source": [
    "#Calculating descriptive statistics\n",
    "df_guns.groupby('cluster').agg({'n_killed':['mean', 'median'], \n",
    "                         'n_injured':['mean', 'median'], \n",
    "                         'n_guns_involved':['mean', 'median'],\n",
    "                          'mass_shooting':['mean', 'median']})"
   ]
  },
  {
   "cell_type": "markdown",
   "id": "9f53b4d2",
   "metadata": {},
   "source": [
    "### Observations\n",
    "n_killed and n_injured doesn't really change per cluster. n_guns_involved is the only variable really cefining these clusters. The number of guns involved does not affect the number of people killed or injured in a gun violence incident. This means that the more guns there are involved in a mass shooting that does not equate to more people killed or injured. "
   ]
  }
 ],
 "metadata": {
  "kernelspec": {
   "display_name": "Python 3 (ipykernel)",
   "language": "python",
   "name": "python3"
  },
  "language_info": {
   "codemirror_mode": {
    "name": "ipython",
    "version": 3
   },
   "file_extension": ".py",
   "mimetype": "text/x-python",
   "name": "python",
   "nbconvert_exporter": "python",
   "pygments_lexer": "ipython3",
   "version": "3.9.13"
  }
 },
 "nbformat": 4,
 "nbformat_minor": 5
}
